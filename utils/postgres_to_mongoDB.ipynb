{
 "cells": [
  {
   "cell_type": "code",
   "execution_count": null,
   "id": "7b8afcc5-7e2e-41b1-a45a-b8e2f65d29e2",
   "metadata": {},
   "outputs": [],
   "source": [
    "pip install psycopg2-binary pymongo"
   ]
  },
  {
   "cell_type": "code",
   "execution_count": 2,
   "id": "c6b70e96-84bc-4acd-997f-6b7fcf963ba9",
   "metadata": {},
   "outputs": [],
   "source": [
    "import psycopg2\n",
    "import json\n",
    "import csv\n",
    "\n",
    "# Verbindung zu PostgreSQL\n",
    "pg_conn = psycopg2.connect(\n",
    "    dbname=\"postgres\",\n",
    "    user=\"postgres\",\n",
    "    password=\"postgres\",\n",
    "    host=\"localhost\",\n",
    "    port=\"5432\"\n",
    ")\n",
    "pg_cursor = pg_conn.cursor()\n",
    "\n",
    "# Load the table Country from the DB\n",
    "pg_cursor.execute(\"SELECT * FROM country;\")\n",
    "columns = [desc[0] for desc in pg_cursor.description]\n",
    "rows = pg_cursor.fetchall()\n",
    "\n",
    "# Convert to Dictionaries\n",
    "country = [dict(zip(columns, row)) for row in rows]\n",
    "# for row in rows:\n",
    "#     country += dict(zip(columns, row))\n",
    "# Convert the Decimal to integer\n",
    "for i in country:\n",
    "    i[\"area\"] = int(i[\"area\"])\n",
    "    i[\"population\"] = int(i[\"population\"])\n",
    "\n",
    "# Remove keyes with None values\n",
    "for item in country:\n",
    "    if item[\"name\"] is None:\n",
    "        del item[\"name\"]\n",
    "    if item[\"code\"] is None:\n",
    "        del item[\"code\"]\n",
    "    if item[\"capital\"] is None:\n",
    "        del item[\"capital\"]\n",
    "    if item[\"province\"] is None:\n",
    "        del item[\"province\"]\n",
    "    if item[\"area\"] is None:\n",
    "        del item[\"area\"]\n",
    "    if item[\"population\"] is None:\n",
    "        del item[\"population\"]\n",
    "\n",
    "# Remove empty dictionaries\n",
    "country = [dic for dic in country if dic]\n",
    "\n",
    "# Save it as CSV\n",
    "headers = country[0].keys()\n",
    "with open('country.csv', 'w', newline='\\n', encoding='utf-8') as f:\n",
    "    writer = csv.DictWriter(f, fieldnames=headers)\n",
    "    writer.writeheader()\n",
    "    writer.writerows(country)"
   ]
  },
  {
   "cell_type": "code",
   "execution_count": 5,
   "id": "7c5ab811-08af-4e2b-bc82-84e7e1e225d5",
   "metadata": {},
   "outputs": [
    {
     "data": {
      "text/plain": [
       "[{'name': 'Albania',\n",
       "  'code': 'AL',\n",
       "  'capital': 'Tirana',\n",
       "  'province': 'Albania',\n",
       "  'area': 28750,\n",
       "  'population': 2821977},\n",
       " {'name': 'Greece',\n",
       "  'code': 'GR',\n",
       "  'capital': 'Athina',\n",
       "  'province': 'Attikis',\n",
       "  'area': 131940,\n",
       "  'population': 10432481}]"
      ]
     },
     "execution_count": 5,
     "metadata": {},
     "output_type": "execute_result"
    }
   ],
   "source": [
    "country[:2]"
   ]
  },
  {
   "cell_type": "code",
   "execution_count": 7,
   "id": "0c412b94-2df1-435c-b901-fbab340e1a18",
   "metadata": {},
   "outputs": [],
   "source": [
    "import psycopg2\n",
    "import json\n",
    "import csv\n",
    "\n",
    "# Verbindung zu PostgreSQL\n",
    "pg_conn = psycopg2.connect(\n",
    "    dbname=\"postgres\",\n",
    "    user=\"postgres\",\n",
    "    password=\"postgres\",\n",
    "    host=\"localhost\",\n",
    "    port=\"5432\"\n",
    ")\n",
    "pg_cursor = pg_conn.cursor()\n",
    "\n",
    "# Load the table Country from the DB\n",
    "pg_cursor.execute(\"SELECT * FROM City;\")\n",
    "columns = [desc[0] for desc in pg_cursor.description]\n",
    "rows = pg_cursor.fetchall()\n",
    "\n",
    "# Convert to Dictionaries\n",
    "City = [dict(zip(columns, row)) for row in rows]\n",
    "\n",
    "# Remove keyes with None values\n",
    "for item in City:\n",
    "    if item[\"name\"] is None:\n",
    "        del item[\"name\"]\n",
    "    if item[\"country\"] is None:\n",
    "        del item[\"country\"]\n",
    "    if item[\"province\"] is None:\n",
    "        del item[\"province\"]\n",
    "    if item[\"population\"] is None:\n",
    "        del item[\"population\"]\n",
    "    if item[\"latitude\"] is None:\n",
    "        del item[\"latitude\"]\n",
    "    if item[\"longitude\"] is None:\n",
    "        del item[\"longitude\"]\n",
    "    if item[\"elevation\"] is None:\n",
    "        del item[\"elevation\"]\n",
    "\n",
    "# Remove empty dictionaries\n",
    "City = [dic for dic in City if dic]\n",
    "\n",
    "# Save it as CSV\n",
    "headers = City[0].keys()\n",
    "with open('city.csv', 'w', newline='\\n', encoding='utf-8') as f:\n",
    "    writer = csv.DictWriter(f, fieldnames=headers)\n",
    "    writer.writeheader()\n",
    "    writer.writerows(City)"
   ]
  },
  {
   "cell_type": "code",
   "execution_count": 8,
   "id": "4b10f85b-5460-4b1e-b3b5-3006f8706e9f",
   "metadata": {
    "scrolled": true
   },
   "outputs": [
    {
     "data": {
      "text/plain": [
       "[{'name': 'Tirana',\n",
       "  'country': 'AL',\n",
       "  'province': 'Albania',\n",
       "  'population': Decimal('418495'),\n",
       "  'latitude': Decimal('41.33'),\n",
       "  'longitude': Decimal('19.82'),\n",
       "  'elevation': Decimal('110')},\n",
       " {'name': 'Shkodër',\n",
       "  'country': 'AL',\n",
       "  'province': 'Albania',\n",
       "  'population': Decimal('77075'),\n",
       "  'latitude': Decimal('42.07'),\n",
       "  'longitude': Decimal('19.5'),\n",
       "  'elevation': Decimal('13')}]"
      ]
     },
     "execution_count": 8,
     "metadata": {},
     "output_type": "execute_result"
    }
   ],
   "source": [
    "City[:2]"
   ]
  },
  {
   "cell_type": "code",
   "execution_count": 9,
   "id": "d0c74947-3a89-45d7-8c94-5121d5041a33",
   "metadata": {},
   "outputs": [],
   "source": [
    "import psycopg2\n",
    "import json\n",
    "import csv\n",
    "\n",
    "# Verbindung zu PostgreSQL\n",
    "pg_conn = psycopg2.connect(\n",
    "    dbname=\"postgres\",\n",
    "    user=\"postgres\",\n",
    "    password=\"postgres\",\n",
    "    host=\"localhost\",\n",
    "    port=\"5432\"\n",
    ")\n",
    "pg_cursor = pg_conn.cursor()\n",
    "\n",
    "# Load the table Country from the DB\n",
    "pg_cursor.execute(\"SELECT * FROM Province;\")\n",
    "columns = [desc[0] for desc in pg_cursor.description]\n",
    "rows = pg_cursor.fetchall()\n",
    "\n",
    "# Convert to Dictionaries\n",
    "Province = [dict(zip(columns, row)) for row in rows]\n",
    "\n",
    "# Remove keyes with None values\n",
    "for item in Province:\n",
    "    if item[\"name\"] is None:\n",
    "        del item[\"name\"]\n",
    "    if item[\"country\"] is None:\n",
    "        del item[\"country\"]\n",
    "    if item[\"population\"] is None:\n",
    "        del item[\"population\"]\n",
    "    if item[\"area\"] is None:\n",
    "        del item[\"area\"]\n",
    "    if item[\"capital\"] is None:\n",
    "        del item[\"capital\"]\n",
    "    if item[\"capprov\"] is None:\n",
    "        del item[\"capprov\"]\n",
    "\n",
    "# Remove empty dictionaries\n",
    "Province = [dic for dic in Province if dic]\n",
    "\n",
    "# Save it as CSV\n",
    "headers = Province[0].keys()\n",
    "with open('Province.csv', 'w', newline='\\n', encoding='utf-8') as f:\n",
    "    writer = csv.DictWriter(f, fieldnames=headers)\n",
    "    writer.writeheader()\n",
    "    writer.writerows(Province)"
   ]
  },
  {
   "cell_type": "code",
   "execution_count": 10,
   "id": "8706881a-ab48-46ed-9303-8831e860f5a7",
   "metadata": {},
   "outputs": [
    {
     "data": {
      "text/plain": [
       "[{'name': 'Albania',\n",
       "  'country': 'AL',\n",
       "  'population': Decimal('2821977'),\n",
       "  'area': Decimal('28750'),\n",
       "  'capital': 'Tirana',\n",
       "  'capprov': 'Albania'},\n",
       " {'name': 'Anatolikis Makedonias kai Thrakis',\n",
       "  'country': 'GR',\n",
       "  'population': Decimal('562069'),\n",
       "  'area': Decimal('14157'),\n",
       "  'capital': 'Komotini',\n",
       "  'capprov': 'Anatolikis Makedonias kai Thrakis'}]"
      ]
     },
     "execution_count": 10,
     "metadata": {},
     "output_type": "execute_result"
    }
   ],
   "source": [
    "Province[:2]"
   ]
  },
  {
   "cell_type": "code",
   "execution_count": 11,
   "id": "8b20c4a2-9050-4aca-841d-0b0a084ca44c",
   "metadata": {},
   "outputs": [],
   "source": [
    "import psycopg2\n",
    "import json\n",
    "import csv\n",
    "\n",
    "# Verbindung zu PostgreSQL\n",
    "pg_conn = psycopg2.connect(\n",
    "    dbname=\"postgres\",\n",
    "    user=\"postgres\",\n",
    "    password=\"postgres\",\n",
    "    host=\"localhost\",\n",
    "    port=\"5432\"\n",
    ")\n",
    "pg_cursor = pg_conn.cursor()\n",
    "\n",
    "# Load the table Country from the DB\n",
    "pg_cursor.execute(\"SELECT * FROM Economy;\")\n",
    "columns = [desc[0] for desc in pg_cursor.description]\n",
    "rows = pg_cursor.fetchall()\n",
    "\n",
    "# Convert to Dictionaries\n",
    "Economy = [dict(zip(columns, row)) for row in rows]\n",
    "\n",
    "# Remove keyes with None values\n",
    "for item in Economy:\n",
    "    if item[\"country\"] is None:\n",
    "        del item[\"country\"]\n",
    "    if item[\"gdp\"] is None:\n",
    "        del item[\"gdp\"]\n",
    "    if item[\"agriculture\"] is None:\n",
    "        del item[\"agriculture\"]\n",
    "    if item[\"service\"] is None:\n",
    "        del item[\"service\"]\n",
    "    if item[\"industry\"] is None:\n",
    "        del item[\"industry\"]\n",
    "    if item[\"inflation\"] is None:\n",
    "        del item[\"inflation\"]\n",
    "    if item[\"unemployment\"] is None:\n",
    "        del item[\"unemployment\"]\n",
    "\n",
    "# Remove empty dictionaries\n",
    "Economy = [dic for dic in Economy if dic]\n",
    "\n",
    "# Save it as CSV\n",
    "headers = Economy[0].keys()\n",
    "with open('economy.csv', 'w', newline='\\n', encoding='utf-8') as f:\n",
    "    writer = csv.DictWriter(f, fieldnames=headers)\n",
    "    writer.writeheader()\n",
    "    writer.writerows(Economy)"
   ]
  },
  {
   "cell_type": "code",
   "execution_count": 12,
   "id": "f662b5de-0e68-4976-8fb2-e5009345cee0",
   "metadata": {},
   "outputs": [
    {
     "data": {
      "text/plain": [
       "[{'country': 'AL',\n",
       "  'gdp': Decimal('12800'),\n",
       "  'agriculture': Decimal('19.5'),\n",
       "  'service': Decimal('68.5'),\n",
       "  'industry': Decimal('12'),\n",
       "  'inflation': Decimal('1.7'),\n",
       "  'unemployment': Decimal('16.9')},\n",
       " {'country': 'GR',\n",
       "  'gdp': Decimal('243300'),\n",
       "  'agriculture': Decimal('3.5'),\n",
       "  'service': Decimal('80.5'),\n",
       "  'industry': Decimal('16'),\n",
       "  'inflation': Decimal('-0.8'),\n",
       "  'unemployment': Decimal('27.9')}]"
      ]
     },
     "execution_count": 12,
     "metadata": {},
     "output_type": "execute_result"
    }
   ],
   "source": [
    "Economy[:2]"
   ]
  },
  {
   "cell_type": "code",
   "execution_count": 13,
   "id": "5967f888-dc8a-4483-a9c2-490ed69e1539",
   "metadata": {},
   "outputs": [],
   "source": [
    "import psycopg2\n",
    "import json\n",
    "import csv\n",
    "\n",
    "# Verbindung zu PostgreSQL\n",
    "pg_conn = psycopg2.connect(\n",
    "    dbname=\"postgres\",\n",
    "    user=\"postgres\",\n",
    "    password=\"postgres\",\n",
    "    host=\"localhost\",\n",
    "    port=\"5432\"\n",
    ")\n",
    "pg_cursor = pg_conn.cursor()\n",
    "\n",
    "# Load the table Country from the DB\n",
    "pg_cursor.execute(\"SELECT * FROM Population;\")\n",
    "columns = [desc[0] for desc in pg_cursor.description]\n",
    "rows = pg_cursor.fetchall()\n",
    "\n",
    "# Convert to Dictionaries\n",
    "Population = [dict(zip(columns, row)) for row in rows]\n",
    "\n",
    "# Remove keyes with None values\n",
    "for item in Population:\n",
    "    if item[\"country\"] is None:\n",
    "        del item[\"country\"]\n",
    "    if item[\"population_growth\"] is None:\n",
    "        del item[\"population_growth\"]\n",
    "    if item[\"infant_mortality\"] is None:\n",
    "        del item[\"infant_mortality\"]\n",
    "\n",
    "# Remove empty dictionaries\n",
    "Population = [dic for dic in Population if dic]\n",
    "\n",
    "# Save it as CSV\n",
    "headers = Population[0].keys()\n",
    "with open('population.csv', 'w', newline='\\n', encoding='utf-8') as f:\n",
    "    writer = csv.DictWriter(f, fieldnames=headers)\n",
    "    writer.writeheader()\n",
    "    writer.writerows(Population)"
   ]
  },
  {
   "cell_type": "code",
   "execution_count": 14,
   "id": "2786da21-6920-40df-9bcf-5dd474a3e832",
   "metadata": {},
   "outputs": [
    {
     "data": {
      "text/plain": [
       "[{'country': 'AL',\n",
       "  'population_growth': Decimal('0.3'),\n",
       "  'infant_mortality': Decimal('13.19')},\n",
       " {'country': 'GR',\n",
       "  'population_growth': Decimal('0.01'),\n",
       "  'infant_mortality': Decimal('4.78')}]"
      ]
     },
     "execution_count": 14,
     "metadata": {},
     "output_type": "execute_result"
    }
   ],
   "source": [
    "Population[:2]"
   ]
  },
  {
   "cell_type": "code",
   "execution_count": 15,
   "id": "3009df63-350e-4a1f-8833-e334fc93bd67",
   "metadata": {},
   "outputs": [],
   "source": [
    "import psycopg2\n",
    "import json\n",
    "import csv\n",
    "\n",
    "# Verbindung zu PostgreSQL\n",
    "pg_conn = psycopg2.connect(\n",
    "    dbname=\"postgres\",\n",
    "    user=\"postgres\",\n",
    "    password=\"postgres\",\n",
    "    host=\"localhost\",\n",
    "    port=\"5432\"\n",
    ")\n",
    "pg_cursor = pg_conn.cursor()\n",
    "\n",
    "# Load the table Country from the DB\n",
    "pg_cursor.execute(\"SELECT * FROM Politics;\")\n",
    "columns = [desc[0] for desc in pg_cursor.description]\n",
    "rows = pg_cursor.fetchall()\n",
    "\n",
    "# Convert to Dictionaries\n",
    "Politics = [dict(zip(columns, row)) for row in rows]\n",
    "\n",
    "# Remove keyes with None values\n",
    "for item in Politics:\n",
    "    if item[\"country\"] is None:\n",
    "        del item[\"country\"]\n",
    "    if item[\"wasdependent\"] is None:\n",
    "        del item[\"wasdependent\"]\n",
    "    if item[\"dependent\"] is None:\n",
    "        del item[\"dependent\"]\n",
    "    if item[\"government\"] is None:\n",
    "        del item[\"government\"]\n",
    "    if item[\"independence\"] is None:\n",
    "        del item[\"independence\"]\n",
    "\n",
    "# Remove empty dictionaries\n",
    "Politics = [dic for dic in Politics if dic]\n",
    "\n",
    "# Save it as CSV\n",
    "headers = Politics[0].keys()\n",
    "with open('politics.csv', 'w', newline='\\n', encoding='utf-8') as f:\n",
    "    writer = csv.DictWriter(f, fieldnames=headers, extrasaction='ignore')\n",
    "    writer.writeheader()\n",
    "    writer.writerows(Politics)"
   ]
  },
  {
   "cell_type": "code",
   "execution_count": 16,
   "id": "5a67b95e-eb73-4850-99dc-127bdbad310d",
   "metadata": {
    "scrolled": true
   },
   "outputs": [
    {
     "data": {
      "text/plain": [
       "[{'country': 'AL',\n",
       "  'independence': datetime.date(1912, 11, 28),\n",
       "  'wasdependent': 'Ottoman Empire',\n",
       "  'government': 'parliamentary democracy'},\n",
       " {'country': 'GR',\n",
       "  'independence': datetime.date(1829, 1, 1),\n",
       "  'wasdependent': 'Ottoman Empire',\n",
       "  'government': 'parliamentary republic'}]"
      ]
     },
     "execution_count": 16,
     "metadata": {},
     "output_type": "execute_result"
    }
   ],
   "source": [
    "Politics[:2]"
   ]
  },
  {
   "cell_type": "code",
   "execution_count": 17,
   "id": "b8ffd115-7d91-4450-bab0-d025c042daab",
   "metadata": {},
   "outputs": [],
   "source": [
    "import psycopg2\n",
    "import json\n",
    "import csv\n",
    "\n",
    "# Verbindung zu PostgreSQL\n",
    "pg_conn = psycopg2.connect(\n",
    "    dbname=\"postgres\",\n",
    "    user=\"postgres\",\n",
    "    password=\"postgres\",\n",
    "    host=\"localhost\",\n",
    "    port=\"5432\"\n",
    ")\n",
    "pg_cursor = pg_conn.cursor()\n",
    "\n",
    "# Load the table Country from the DB\n",
    "pg_cursor.execute(\"SELECT * FROM Religion;\")\n",
    "columns = [desc[0] for desc in pg_cursor.description]\n",
    "rows = pg_cursor.fetchall()\n",
    "\n",
    "# Convert to Dictionaries\n",
    "Religion = [dict(zip(columns, row)) for row in rows]\n",
    "\n",
    "# Remove keyes with None values\n",
    "for item in Religion:\n",
    "    if item[\"country\"] is None:\n",
    "        del item[\"country\"]\n",
    "    if item[\"name\"] is None:\n",
    "        del item[\"name\"]\n",
    "    if item[\"percentage\"] is None:\n",
    "        del item[\"percentage\"]\n",
    "\n",
    "# Remove empty dictionaries\n",
    "Religion = [dic for dic in Religion if dic]\n",
    "\n",
    "# Save it as CSV\n",
    "headers = Religion[0].keys()\n",
    "with open('religion.csv', 'w', newline='\\n', encoding='utf-8') as f:\n",
    "    writer = csv.DictWriter(f, fieldnames=headers)\n",
    "    writer.writeheader()\n",
    "    writer.writerows(Religion)"
   ]
  },
  {
   "cell_type": "code",
   "execution_count": 18,
   "id": "6fb4f3a7-e845-4dc9-87a2-ecba6c8d5b95",
   "metadata": {},
   "outputs": [
    {
     "data": {
      "text/plain": [
       "[{'country': 'AL', 'name': 'Muslim', 'percentage': Decimal('58.8')},\n",
       " {'country': 'AL', 'name': 'Catholic', 'percentage': Decimal('10')}]"
      ]
     },
     "execution_count": 18,
     "metadata": {},
     "output_type": "execute_result"
    }
   ],
   "source": [
    "Religion[:2]"
   ]
  },
  {
   "cell_type": "code",
   "execution_count": 19,
   "id": "9c6626ee-0dae-44f6-b728-42ff507f44d0",
   "metadata": {},
   "outputs": [],
   "source": [
    "import psycopg2\n",
    "import json\n",
    "import csv\n",
    "\n",
    "# Verbindung zu PostgreSQL\n",
    "pg_conn = psycopg2.connect(\n",
    "    dbname=\"postgres\",\n",
    "    user=\"postgres\",\n",
    "    password=\"postgres\",\n",
    "    host=\"localhost\",\n",
    "    port=\"5432\"\n",
    ")\n",
    "pg_cursor = pg_conn.cursor()\n",
    "\n",
    "# Load the table Country from the DB\n",
    "pg_cursor.execute(\"SELECT * FROM EthnicGroup;\")\n",
    "columns = [desc[0] for desc in pg_cursor.description]\n",
    "rows = pg_cursor.fetchall()\n",
    "\n",
    "# Convert to Dictionaries\n",
    "EthnicGroup = [dict(zip(columns, row)) for row in rows]\n",
    "\n",
    "# Remove keyes with None values\n",
    "for item in EthnicGroup:\n",
    "    if item[\"country\"] is None:\n",
    "        del item[\"country\"]\n",
    "    if item[\"name\"] is None:\n",
    "        del item[\"name\"]\n",
    "    if item[\"percentage\"] is None:\n",
    "        del item[\"percentage\"]\n",
    "\n",
    "# Remove empty dictionaries\n",
    "EthnicGroup = [dic for dic in EthnicGroup if dic]\n",
    "\n",
    "# Save it as CSV\n",
    "headers = EthnicGroup[0].keys()\n",
    "with open('ethnicGroup.csv', 'w', newline='\\n', encoding='utf-8') as f:\n",
    "    writer = csv.DictWriter(f, fieldnames=headers)\n",
    "    writer.writeheader()\n",
    "    writer.writerows(EthnicGroup)"
   ]
  },
  {
   "cell_type": "code",
   "execution_count": 20,
   "id": "372b3862-2053-4100-80ea-125f5cca3006",
   "metadata": {},
   "outputs": [
    {
     "data": {
      "text/plain": [
       "[{'country': 'AL', 'name': 'Albanian', 'percentage': Decimal('97')},\n",
       " {'country': 'AL', 'name': 'Greek', 'percentage': Decimal('0.9')}]"
      ]
     },
     "execution_count": 20,
     "metadata": {},
     "output_type": "execute_result"
    }
   ],
   "source": [
    "EthnicGroup[:2]"
   ]
  },
  {
   "cell_type": "code",
   "execution_count": 21,
   "id": "93e3ba35-3085-4310-b8f0-10d02efc6cf2",
   "metadata": {},
   "outputs": [],
   "source": [
    "import psycopg2\n",
    "import json\n",
    "import csv\n",
    "\n",
    "# Verbindung zu PostgreSQL\n",
    "pg_conn = psycopg2.connect(\n",
    "    dbname=\"postgres\",\n",
    "    user=\"postgres\",\n",
    "    password=\"postgres\",\n",
    "    host=\"localhost\",\n",
    "    port=\"5432\"\n",
    ")\n",
    "pg_cursor = pg_conn.cursor()\n",
    "\n",
    "# Load the table Country from the DB\n",
    "pg_cursor.execute(\"SELECT * FROM Spoken;\")\n",
    "columns = [desc[0] for desc in pg_cursor.description]\n",
    "rows = pg_cursor.fetchall()\n",
    "\n",
    "# Convert to Dictionaries\n",
    "Spoken = [dict(zip(columns, row)) for row in rows]\n",
    "\n",
    "# Remove keyes with None values\n",
    "for item in Spoken:\n",
    "    if item[\"country\"] is None:\n",
    "        del item[\"country\"]\n",
    "    if item[\"language\"] is None:\n",
    "        del item[\"language\"]\n",
    "    if item[\"percentage\"] is None:\n",
    "        del item[\"percentage\"]\n",
    "\n",
    "# Remove empty dictionaries\n",
    "Spoken = [dic for dic in Spoken if dic]\n",
    "\n",
    "# Save it as CSV\n",
    "headers = Spoken[0].keys()\n",
    "with open('spoken.csv', 'w', newline='\\n', encoding='utf-8') as f:\n",
    "    writer = csv.DictWriter(f, fieldnames=headers)\n",
    "    writer.writeheader()\n",
    "    writer.writerows(Spoken)"
   ]
  },
  {
   "cell_type": "code",
   "execution_count": 22,
   "id": "1020d4b0-fd68-4c95-9b1f-b6c027d3b370",
   "metadata": {},
   "outputs": [
    {
     "data": {
      "text/plain": [
       "[{'country': 'AL', 'language': 'Albanian', 'percentage': Decimal('98.8')},\n",
       " {'country': 'AL', 'language': 'Greek', 'percentage': Decimal('0.5')}]"
      ]
     },
     "execution_count": 22,
     "metadata": {},
     "output_type": "execute_result"
    }
   ],
   "source": [
    "Spoken[:2]"
   ]
  },
  {
   "cell_type": "code",
   "execution_count": 23,
   "id": "fed871a6-23ce-4eba-a299-020d1ddb2e76",
   "metadata": {},
   "outputs": [],
   "source": [
    "import psycopg2\n",
    "import json\n",
    "import csv\n",
    "\n",
    "# Verbindung zu PostgreSQL\n",
    "pg_conn = psycopg2.connect(\n",
    "    dbname=\"postgres\",\n",
    "    user=\"postgres\",\n",
    "    password=\"postgres\",\n",
    "    host=\"localhost\",\n",
    "    port=\"5432\"\n",
    ")\n",
    "pg_cursor = pg_conn.cursor()\n",
    "\n",
    "# Load the table Country from the DB\n",
    "pg_cursor.execute(\"SELECT * FROM Language;\")\n",
    "columns = [desc[0] for desc in pg_cursor.description]\n",
    "rows = pg_cursor.fetchall()\n",
    "\n",
    "# Convert to Dictionaries\n",
    "Language = [dict(zip(columns, row)) for row in rows]\n",
    "\n",
    "# Remove keyes with None values\n",
    "for item in Language:\n",
    "    if item[\"name\"] is None:\n",
    "        del item[\"name\"]\n",
    "    if item[\"superlanguage\"] is None:\n",
    "        del item[\"superlanguage\"]\n",
    "\n",
    "# Remove empty dictionaries\n",
    "Language = [dic for dic in Language if dic]\n",
    "\n",
    "# Save it as CSV\n",
    "headers = Language[0].keys()\n",
    "with open('language.csv', 'w', newline='\\n', encoding='utf-8') as f:\n",
    "    writer = csv.DictWriter(f, fieldnames=headers, extrasaction='ignore')\n",
    "    writer.writeheader()\n",
    "    writer.writerows(Language)"
   ]
  },
  {
   "cell_type": "code",
   "execution_count": 24,
   "id": "c302b154-84fb-4fc9-affe-42d7b31915ed",
   "metadata": {},
   "outputs": [
    {
     "data": {
      "text/plain": [
       "[{'name': 'Indo-European'},\n",
       " {'name': 'Celtic', 'superlanguage': 'Indo-European'}]"
      ]
     },
     "execution_count": 24,
     "metadata": {},
     "output_type": "execute_result"
    }
   ],
   "source": [
    "Language[:2]"
   ]
  },
  {
   "cell_type": "code",
   "execution_count": 25,
   "id": "815311ee-d7f3-4603-873c-a8a3716a7972",
   "metadata": {},
   "outputs": [],
   "source": [
    "# Verbindung zu PostgreSQL\n",
    "pg_conn = psycopg2.connect(\n",
    "    dbname=\"postgres\",\n",
    "    user=\"postgres\",\n",
    "    password=\"postgres\",\n",
    "    host=\"localhost\",\n",
    "    port=\"5432\"\n",
    ")\n",
    "pg_cursor = pg_conn.cursor()\n",
    "\n",
    "# Load the table Country from the DB\n",
    "pg_cursor.execute(\"SELECT * FROM Countrypops;\")\n",
    "columns = [desc[0] for desc in pg_cursor.description]\n",
    "rows = pg_cursor.fetchall()\n",
    "\n",
    "# Convert to Dictionaries\n",
    "Countrypops = [dict(zip(columns, row)) for row in rows]\n",
    "\n",
    "# Remove keyes with None values\n",
    "for item in Countrypops:\n",
    "    if item[\"country\"] is None:\n",
    "        del item[\"country\"]\n",
    "    if item[\"year\"] is None:\n",
    "        del item[\"year\"]\n",
    "    if item[\"population\"] is None:\n",
    "        del item[\"population\"]\n",
    "\n",
    "# Remove empty dictionaries\n",
    "Countrypops = [dic for dic in Countrypops if dic]\n",
    "\n",
    "# Save it as CSV\n",
    "headers = Countrypops[0].keys()\n",
    "with open('countrypops.csv', 'w', newline='\\n', encoding='utf-8') as f:\n",
    "    writer = csv.DictWriter(f, fieldnames=headers, extrasaction='ignore')\n",
    "    writer.writeheader()\n",
    "    writer.writerows(Countrypops)"
   ]
  },
  {
   "cell_type": "code",
   "execution_count": 26,
   "id": "6ca5f251-15cf-4ee6-92a9-23f0a25c2aba",
   "metadata": {},
   "outputs": [
    {
     "data": {
      "text/plain": [
       "[{'country': 'AL', 'year': Decimal('1950'), 'population': Decimal('1214489')},\n",
       " {'country': 'AL', 'year': Decimal('1960'), 'population': Decimal('1618829')}]"
      ]
     },
     "execution_count": 26,
     "metadata": {},
     "output_type": "execute_result"
    }
   ],
   "source": [
    "Countrypops[:2]"
   ]
  },
  {
   "cell_type": "code",
   "execution_count": 28,
   "id": "cea8f903-56ab-4c22-90f6-e71f338e1e8f",
   "metadata": {},
   "outputs": [],
   "source": [
    "# Verbindung zu PostgreSQL\n",
    "pg_conn = psycopg2.connect(\n",
    "    dbname=\"postgres\",\n",
    "    user=\"postgres\",\n",
    "    password=\"postgres\",\n",
    "    host=\"localhost\",\n",
    "    port=\"5432\"\n",
    ")\n",
    "pg_cursor = pg_conn.cursor()\n",
    "\n",
    "# Load the table Country from the DB\n",
    "pg_cursor.execute(\"SELECT * FROM Countryothername;\")\n",
    "columns = [desc[0] for desc in pg_cursor.description]\n",
    "rows = pg_cursor.fetchall()\n",
    "\n",
    "# Convert to Dictionaries\n",
    "Countryothername = [dict(zip(columns, row)) for row in rows]\n",
    "\n",
    "# Remove keyes with None values\n",
    "for item in Countryothername:\n",
    "    if item[\"country\"] is None:\n",
    "        del item[\"country\"]\n",
    "    if item[\"othername\"] is None:\n",
    "        del item[\"othername\"]\n",
    "\n",
    "# Remove empty dictionaries\n",
    "Countryothername = [dic for dic in Countryothername if dic]\n",
    "\n",
    "# Save it as CSV\n",
    "headers = Countryothername[0].keys()\n",
    "with open('countryothername.csv', 'w', newline='\\n', encoding='utf-8') as f:\n",
    "    writer = csv.DictWriter(f, fieldnames=headers, extrasaction='ignore')\n",
    "    writer.writeheader()\n",
    "    writer.writerows(Countryothername)"
   ]
  },
  {
   "cell_type": "code",
   "execution_count": 161,
   "id": "9d2b1e34-68aa-4520-ab9c-18c9aa46ca06",
   "metadata": {},
   "outputs": [
    {
     "data": {
      "text/plain": [
       "[{'country': 'CZ', 'othername': 'Czechia'},\n",
       " {'country': 'MYA', 'othername': 'Burma'},\n",
       " {'country': 'SD', 'othername': 'Swaziland'}]"
      ]
     },
     "execution_count": 161,
     "metadata": {},
     "output_type": "execute_result"
    }
   ],
   "source": [
    "Countryothername"
   ]
  },
  {
   "cell_type": "code",
   "execution_count": 29,
   "id": "411b79da-b23e-46f6-9873-0a98f8fe59a8",
   "metadata": {},
   "outputs": [],
   "source": [
    "# Verbindung zu PostgreSQL\n",
    "pg_conn = psycopg2.connect(\n",
    "    dbname=\"postgres\",\n",
    "    user=\"postgres\",\n",
    "    password=\"postgres\",\n",
    "    host=\"localhost\",\n",
    "    port=\"5432\"\n",
    ")\n",
    "pg_cursor = pg_conn.cursor()\n",
    "\n",
    "# Load the table Country from the DB\n",
    "pg_cursor.execute(\"SELECT * FROM Countrylocalname;\")\n",
    "columns = [desc[0] for desc in pg_cursor.description]\n",
    "rows = pg_cursor.fetchall()\n",
    "\n",
    "# Convert to Dictionaries\n",
    "Countrylocalname = [dict(zip(columns, row)) for row in rows]\n",
    "\n",
    "# Remove keyes with None values\n",
    "for item in Countrylocalname:\n",
    "    if item[\"country\"] is None:\n",
    "        del item[\"country\"]\n",
    "    if item[\"localname\"] is None:\n",
    "        del item[\"localname\"]\n",
    "\n",
    "# Remove empty dictionaries\n",
    "Countrylocalname = [dic for dic in Countrylocalname if dic]\n",
    "\n",
    "# Save it as CSV\n",
    "headers = Countrylocalname[0].keys()\n",
    "with open('countrylocalname.csv', 'w', newline='\\n', encoding='utf-8') as f:\n",
    "    writer = csv.DictWriter(f, fieldnames=headers, extrasaction='ignore')\n",
    "    writer.writeheader()\n",
    "    writer.writerows(Countrylocalname)"
   ]
  },
  {
   "cell_type": "code",
   "execution_count": 30,
   "id": "cf43343d-19dc-435e-826f-6fb2bcdc14f5",
   "metadata": {},
   "outputs": [
    {
     "data": {
      "text/plain": [
       "[{'country': 'AL', 'localname': 'Shqipëri'},\n",
       " {'country': 'GR', 'localname': 'Ελληνική Δημοκρατία'}]"
      ]
     },
     "execution_count": 30,
     "metadata": {},
     "output_type": "execute_result"
    }
   ],
   "source": [
    "Countrylocalname[:2]"
   ]
  },
  {
   "cell_type": "code",
   "execution_count": 31,
   "id": "f0e23b7f-4e3b-43e8-9414-9153930d500f",
   "metadata": {},
   "outputs": [],
   "source": [
    "# Verbindung zu PostgreSQL\n",
    "pg_conn = psycopg2.connect(\n",
    "    dbname=\"postgres\",\n",
    "    user=\"postgres\",\n",
    "    password=\"postgres\",\n",
    "    host=\"localhost\",\n",
    "    port=\"5432\"\n",
    ")\n",
    "pg_cursor = pg_conn.cursor()\n",
    "\n",
    "# Load the table Country from the DB\n",
    "pg_cursor.execute(\"SELECT * FROM Provpops;\")\n",
    "columns = [desc[0] for desc in pg_cursor.description]\n",
    "rows = pg_cursor.fetchall()\n",
    "\n",
    "# Convert to Dictionaries\n",
    "Provpops = [dict(zip(columns, row)) for row in rows]\n",
    "\n",
    "# Remove keyes with None values\n",
    "for item in Provpops:\n",
    "    if item[\"province\"] is None:\n",
    "        del item[\"province\"]\n",
    "    if item[\"country\"] is None:\n",
    "        del item[\"country\"]\n",
    "    if item[\"population\"] is None:\n",
    "        del item[\"population\"]\n",
    "\n",
    "# Remove empty dictionaries\n",
    "Provpops = [dic for dic in Provpops if dic]\n",
    "\n",
    "# Save it as CSV\n",
    "headers = Provpops[0].keys()\n",
    "with open('provpops.csv', 'w', newline='\\n', encoding='utf-8') as f:\n",
    "    writer = csv.DictWriter(f, fieldnames=headers, extrasaction='ignore')\n",
    "    writer.writeheader()\n",
    "    writer.writerows(Provpops)"
   ]
  },
  {
   "cell_type": "code",
   "execution_count": 32,
   "id": "f14d19a3-20c9-4da3-a260-a2819bbc3000",
   "metadata": {},
   "outputs": [
    {
     "data": {
      "text/plain": [
       "[{'province': 'Anatolikis Makedonias kai Thrakis',\n",
       "  'country': 'GR',\n",
       "  'year': Decimal('1991'),\n",
       "  'population': Decimal('570197')},\n",
       " {'province': 'Anatolikis Makedonias kai Thrakis',\n",
       "  'country': 'GR',\n",
       "  'year': Decimal('2001'),\n",
       "  'population': Decimal('607162')}]"
      ]
     },
     "execution_count": 32,
     "metadata": {},
     "output_type": "execute_result"
    }
   ],
   "source": [
    "Provpops[:2]"
   ]
  },
  {
   "cell_type": "code",
   "execution_count": 33,
   "id": "0c72614c-eaa4-4838-8696-ee014ef0c1ab",
   "metadata": {},
   "outputs": [],
   "source": [
    "# Verbindung zu PostgreSQL\n",
    "pg_conn = psycopg2.connect(\n",
    "    dbname=\"postgres\",\n",
    "    user=\"postgres\",\n",
    "    password=\"postgres\",\n",
    "    host=\"localhost\",\n",
    "    port=\"5432\"\n",
    ")\n",
    "pg_cursor = pg_conn.cursor()\n",
    "\n",
    "# Load the table Country from the DB\n",
    "pg_cursor.execute(\"SELECT * FROM Provinceothername;\")\n",
    "columns = [desc[0] for desc in pg_cursor.description]\n",
    "rows = pg_cursor.fetchall()\n",
    "\n",
    "# Convert to Dictionaries\n",
    "Provinceothername = [dict(zip(columns, row)) for row in rows]\n",
    "\n",
    "# Remove keyes with None values\n",
    "for item in Provinceothername:\n",
    "    if item[\"province\"] is None:\n",
    "        del item[\"province\"]\n",
    "    if item[\"country\"] is None:\n",
    "        del item[\"country\"]\n",
    "    if item[\"othername\"] is None:\n",
    "        del item[\"othername\"]\n",
    "\n",
    "# Remove empty dictionaries\n",
    "Provinceothername = [dic for dic in Provinceothername if dic]\n",
    "\n",
    "# Save it as CSV\n",
    "headers = Provinceothername[0].keys()\n",
    "with open('provinceothername.csv', 'w', newline='\\n', encoding='utf-8') as f:\n",
    "    writer = csv.DictWriter(f, fieldnames=headers, extrasaction='ignore')\n",
    "    writer.writeheader()\n",
    "    writer.writerows(Provinceothername)"
   ]
  },
  {
   "cell_type": "code",
   "execution_count": 34,
   "id": "1358a0de-1625-4fc5-ae84-09db960a0680",
   "metadata": {},
   "outputs": [
    {
     "data": {
      "text/plain": [
       "[{'province': 'Euskadi', 'country': 'E', 'othername': 'País Vasco'},\n",
       " {'province': 'Catalunya', 'country': 'E', 'othername': 'Cataluña'}]"
      ]
     },
     "execution_count": 34,
     "metadata": {},
     "output_type": "execute_result"
    }
   ],
   "source": [
    "Provinceothername[:2]"
   ]
  },
  {
   "cell_type": "code",
   "execution_count": 35,
   "id": "e2f7e4bc-7e3b-4a57-9388-b0fe4acf1fc3",
   "metadata": {},
   "outputs": [],
   "source": [
    "# Verbindung zu PostgreSQL\n",
    "pg_conn = psycopg2.connect(\n",
    "    dbname=\"postgres\",\n",
    "    user=\"postgres\",\n",
    "    password=\"postgres\",\n",
    "    host=\"localhost\",\n",
    "    port=\"5432\"\n",
    ")\n",
    "pg_cursor = pg_conn.cursor()\n",
    "\n",
    "# Load the table Country from the DB\n",
    "pg_cursor.execute(\"SELECT * FROM Provincelocalname;\")\n",
    "columns = [desc[0] for desc in pg_cursor.description]\n",
    "rows = pg_cursor.fetchall()\n",
    "\n",
    "# Convert to Dictionaries\n",
    "Provincelocalname = [dict(zip(columns, row)) for row in rows]\n",
    "\n",
    "# Remove keyes with None values\n",
    "for item in Provincelocalname:\n",
    "    if item[\"province\"] is None:\n",
    "        del item[\"province\"]\n",
    "    if item[\"country\"] is None:\n",
    "        del item[\"country\"]\n",
    "    if item[\"localname\"] is None:\n",
    "        del item[\"localname\"]\n",
    "\n",
    "# Remove empty dictionaries\n",
    "Provincelocalname = [dic for dic in Provincelocalname if dic]\n",
    "\n",
    "# Save it as CSV\n",
    "headers = Provincelocalname[0].keys()\n",
    "with open('provincelocalname.csv', 'w', newline='\\n', encoding='utf-8') as f:\n",
    "    writer = csv.DictWriter(f, fieldnames=headers, extrasaction='ignore')\n",
    "    writer.writeheader()\n",
    "    writer.writerows(Provincelocalname)"
   ]
  },
  {
   "cell_type": "code",
   "execution_count": 36,
   "id": "fee4aa1a-0c8e-4953-a9c2-96dcc53f86f3",
   "metadata": {},
   "outputs": [
    {
     "data": {
      "text/plain": [
       "[{'province': 'Anatolikis Makedonias kai Thrakis',\n",
       "  'country': 'GR',\n",
       "  'localname': 'Ανατολικής Μακεδονίας και Θράκης'},\n",
       " {'province': 'Attikis', 'country': 'GR', 'localname': 'Αττικής'}]"
      ]
     },
     "execution_count": 36,
     "metadata": {},
     "output_type": "execute_result"
    }
   ],
   "source": [
    "Provincelocalname[:2]"
   ]
  },
  {
   "cell_type": "code",
   "execution_count": 37,
   "id": "8019a60a-fe41-4016-b492-0703f3145c4c",
   "metadata": {},
   "outputs": [],
   "source": [
    "# Verbindung zu PostgreSQL\n",
    "pg_conn = psycopg2.connect(\n",
    "    dbname=\"postgres\",\n",
    "    user=\"postgres\",\n",
    "    password=\"postgres\",\n",
    "    host=\"localhost\",\n",
    "    port=\"5432\"\n",
    ")\n",
    "pg_cursor = pg_conn.cursor()\n",
    "\n",
    "# Load the table Country from the DB\n",
    "pg_cursor.execute(\"SELECT * FROM Citypops;\")\n",
    "columns = [desc[0] for desc in pg_cursor.description]\n",
    "rows = pg_cursor.fetchall()\n",
    "\n",
    "# Convert to Dictionaries\n",
    "Citypops = [dict(zip(columns, row)) for row in rows]\n",
    "\n",
    "# Remove keyes with None values\n",
    "for item in Citypops:\n",
    "    if item[\"city\"] is None:\n",
    "        del item[\"city\"]\n",
    "    if item[\"country\"] is None:\n",
    "        del item[\"country\"]\n",
    "    if item[\"province\"] is None:\n",
    "        del item[\"province\"]\n",
    "    if item[\"population\"] is None:\n",
    "        del item[\"population\"]\n",
    "\n",
    "# Remove empty dictionaries\n",
    "Citypops = [dic for dic in Citypops if dic]\n",
    "\n",
    "# Save it as CSV\n",
    "headers = Citypops[0].keys()\n",
    "with open('citypops.csv', 'w', newline='\\n', encoding='utf-8') as f:\n",
    "    writer = csv.DictWriter(f, fieldnames=headers, extrasaction='ignore')\n",
    "    writer.writeheader()\n",
    "    writer.writerows(Citypops)"
   ]
  },
  {
   "cell_type": "code",
   "execution_count": 38,
   "id": "16c7158b-e5c2-4f0e-af2c-8d73f16acd1a",
   "metadata": {},
   "outputs": [
    {
     "data": {
      "text/plain": [
       "[{'city': 'Tirana',\n",
       "  'country': 'AL',\n",
       "  'province': 'Albania',\n",
       "  'year': Decimal('1987'),\n",
       "  'population': Decimal('192000')},\n",
       " {'city': 'Tirana',\n",
       "  'country': 'AL',\n",
       "  'province': 'Albania',\n",
       "  'year': Decimal('1990'),\n",
       "  'population': Decimal('244153')}]"
      ]
     },
     "execution_count": 38,
     "metadata": {},
     "output_type": "execute_result"
    }
   ],
   "source": [
    "Citypops[:2]"
   ]
  },
  {
   "cell_type": "code",
   "execution_count": 39,
   "id": "5f9d79bd-1426-4c06-9d90-a3a03a1354d1",
   "metadata": {},
   "outputs": [],
   "source": [
    "# Verbindung zu PostgreSQL\n",
    "pg_conn = psycopg2.connect(\n",
    "    dbname=\"postgres\",\n",
    "    user=\"postgres\",\n",
    "    password=\"postgres\",\n",
    "    host=\"localhost\",\n",
    "    port=\"5432\"\n",
    ")\n",
    "pg_cursor = pg_conn.cursor()\n",
    "\n",
    "# Load the table Country from the DB\n",
    "pg_cursor.execute(\"SELECT * FROM Cityothername;\")\n",
    "columns = [desc[0] for desc in pg_cursor.description]\n",
    "rows = pg_cursor.fetchall()\n",
    "\n",
    "# Convert to Dictionaries\n",
    "Cityothername = [dict(zip(columns, row)) for row in rows]\n",
    "\n",
    "# Remove keyes with None values\n",
    "for item in Cityothername:\n",
    "    if item[\"city\"] is None:\n",
    "        del item[\"city\"]\n",
    "    if item[\"country\"] is None:\n",
    "        del item[\"country\"]\n",
    "    if item[\"province\"] is None:\n",
    "        del item[\"province\"]\n",
    "    if item[\"othername\"] is None:\n",
    "        del item[\"othername\"]\n",
    "\n",
    "# Remove empty dictionaries\n",
    "Cityothername = [dic for dic in Cityothername if dic]\n",
    "\n",
    "# Save it as CSV\n",
    "headers = Cityothername[0].keys()\n",
    "with open('cityothername.csv', 'w', newline='\\n', encoding='utf-8') as f:\n",
    "    writer = csv.DictWriter(f, fieldnames=headers, extrasaction='ignore')\n",
    "    writer.writeheader()\n",
    "    writer.writerows(Cityothername)"
   ]
  },
  {
   "cell_type": "code",
   "execution_count": 40,
   "id": "76e3d667-0c97-4ba7-b3c3-efd795fb5bf0",
   "metadata": {},
   "outputs": [
    {
     "data": {
      "text/plain": [
       "[{'city': 'Tirana',\n",
       "  'country': 'AL',\n",
       "  'province': 'Albania',\n",
       "  'othername': 'Tirane'},\n",
       " {'city': 'Athina',\n",
       "  'country': 'GR',\n",
       "  'province': 'Attikis',\n",
       "  'othername': 'Athens'}]"
      ]
     },
     "execution_count": 40,
     "metadata": {},
     "output_type": "execute_result"
    }
   ],
   "source": [
    "Cityothername[:2]"
   ]
  },
  {
   "cell_type": "code",
   "execution_count": 41,
   "id": "8e958716-7f52-41dc-80c5-a3aa3db50629",
   "metadata": {},
   "outputs": [],
   "source": [
    "# Verbindung zu PostgreSQL\n",
    "pg_conn = psycopg2.connect(\n",
    "    dbname=\"postgres\",\n",
    "    user=\"postgres\",\n",
    "    password=\"postgres\",\n",
    "    host=\"localhost\",\n",
    "    port=\"5432\"\n",
    ")\n",
    "pg_cursor = pg_conn.cursor()\n",
    "\n",
    "# Load the table Country from the DB\n",
    "pg_cursor.execute(\"SELECT * FROM Citylocalname;\")\n",
    "columns = [desc[0] for desc in pg_cursor.description]\n",
    "rows = pg_cursor.fetchall()\n",
    "\n",
    "# Convert to Dictionaries\n",
    "Citylocalname = [dict(zip(columns, row)) for row in rows]\n",
    "\n",
    "#Remove keyes with None values\n",
    "for item in Citylocalname:\n",
    "    if item[\"city\"] is None:\n",
    "        del item[\"city\"]\n",
    "    if item[\"country\"] is None:\n",
    "        del item[\"country\"]\n",
    "    if item[\"province\"] is None:\n",
    "        del item[\"province\"]\n",
    "    if item[\"localname\"] is None:\n",
    "        del item[\"localname\"]\n",
    "\n",
    "# Remove empty dictionaries\n",
    "Citylocalname = [dic for dic in Citylocalname if dic]\n",
    "\n",
    "# Save it as CSV\n",
    "headers = Citylocalname[0].keys()\n",
    "with open('citylocalname.csv', 'w', newline='\\n', encoding='utf-8') as f:\n",
    "    writer = csv.DictWriter(f, fieldnames=headers, extrasaction='ignore')\n",
    "    writer.writeheader()\n",
    "    writer.writerows(Citylocalname)"
   ]
  },
  {
   "cell_type": "code",
   "execution_count": 42,
   "id": "7ff257f0-17f7-4694-8775-9e811c0ed120",
   "metadata": {},
   "outputs": [
    {
     "data": {
      "text/plain": [
       "[{'city': 'Athina',\n",
       "  'country': 'GR',\n",
       "  'province': 'Attikis',\n",
       "  'localname': 'Αθήνα'},\n",
       " {'city': 'Peiraias',\n",
       "  'country': 'GR',\n",
       "  'province': 'Attikis',\n",
       "  'localname': 'Πειραιάς'}]"
      ]
     },
     "execution_count": 42,
     "metadata": {},
     "output_type": "execute_result"
    }
   ],
   "source": [
    "Citylocalname[:2]"
   ]
  },
  {
   "cell_type": "code",
   "execution_count": 43,
   "id": "76f349c7-a0b3-4b0a-b246-217892d79681",
   "metadata": {},
   "outputs": [],
   "source": [
    "# Verbindung zu PostgreSQL\n",
    "pg_conn = psycopg2.connect(\n",
    "    dbname=\"postgres\",\n",
    "    user=\"postgres\",\n",
    "    password=\"postgres\",\n",
    "    host=\"localhost\",\n",
    "    port=\"5432\"\n",
    ")\n",
    "pg_cursor = pg_conn.cursor()\n",
    "\n",
    "# Load the table Country from the DB\n",
    "pg_cursor.execute(\"SELECT * FROM Continent;\")\n",
    "columns = [desc[0] for desc in pg_cursor.description]\n",
    "rows = pg_cursor.fetchall()\n",
    "\n",
    "# Convert to Dictionaries\n",
    "Continent = [dict(zip(columns, row)) for row in rows]\n",
    "\n",
    "#Remove keyes with None values\n",
    "for item in Continent:\n",
    "    if item[\"name\"] is None:\n",
    "        del item[\"name\"]\n",
    "    if item[\"area\"] is None:\n",
    "        del item[\"area\"]\n",
    "\n",
    "# Remove empty dictionaries\n",
    "Continent = [dic for dic in Continent if dic]\n",
    "\n",
    "# Save it as CSV\n",
    "headers = Continent[0].keys()\n",
    "with open('continent.csv', 'w', newline='\\n', encoding='utf-8') as f:\n",
    "    writer = csv.DictWriter(f, fieldnames=headers, extrasaction='ignore')\n",
    "    writer.writeheader()\n",
    "    writer.writerows(Continent)"
   ]
  },
  {
   "cell_type": "code",
   "execution_count": 44,
   "id": "1898a45a-d124-42c1-b2e6-9b0f74569481",
   "metadata": {},
   "outputs": [
    {
     "data": {
      "text/plain": [
       "[{'name': 'Europe', 'area': Decimal('10523000')},\n",
       " {'name': 'Asia', 'area': Decimal('44614500')}]"
      ]
     },
     "execution_count": 44,
     "metadata": {},
     "output_type": "execute_result"
    }
   ],
   "source": [
    "Continent[:2]"
   ]
  },
  {
   "cell_type": "code",
   "execution_count": 45,
   "id": "a7483f8c-d0cd-422e-89d1-60327e3ba038",
   "metadata": {},
   "outputs": [],
   "source": [
    "# Verbindung zu PostgreSQL\n",
    "pg_conn = psycopg2.connect(\n",
    "    dbname=\"postgres\",\n",
    "    user=\"postgres\",\n",
    "    password=\"postgres\",\n",
    "    host=\"localhost\",\n",
    "    port=\"5432\"\n",
    ")\n",
    "pg_cursor = pg_conn.cursor()\n",
    "\n",
    "# Load the table Country from the DB\n",
    "pg_cursor.execute(\"SELECT * FROM borders;\")\n",
    "columns = [desc[0] for desc in pg_cursor.description]\n",
    "rows = pg_cursor.fetchall()\n",
    "\n",
    "# Convert to Dictionaries\n",
    "borders = [dict(zip(columns, row)) for row in rows]\n",
    "\n",
    "#Remove keyes with None values\n",
    "for item in borders:\n",
    "    if item[\"country1\"] is None:\n",
    "        del item[\"country1\"]\n",
    "    if item[\"country2\"] is None:\n",
    "        del item[\"country2\"]\n",
    "    if item[\"length\"] is None:\n",
    "        del item[\"length\"]\n",
    "\n",
    "# Remove empty dictionaries\n",
    "borders = [dic for dic in borders if dic]\n",
    "\n",
    "# Save it as CSV\n",
    "headers = borders[0].keys()\n",
    "with open('borders.csv', 'w', newline='\\n', encoding='utf-8') as f:\n",
    "    writer = csv.DictWriter(f, fieldnames=headers, extrasaction='ignore')\n",
    "    writer.writeheader()\n",
    "    writer.writerows(borders)"
   ]
  },
  {
   "cell_type": "code",
   "execution_count": 46,
   "id": "fcca1ca2-1d9b-48a2-a773-f06173124c79",
   "metadata": {},
   "outputs": [
    {
     "data": {
      "text/plain": [
       "[{'country1': 'AL', 'country2': 'GR', 'length': Decimal('282')},\n",
       " {'country1': 'AL', 'country2': 'MK', 'length': Decimal('151')}]"
      ]
     },
     "execution_count": 46,
     "metadata": {},
     "output_type": "execute_result"
    }
   ],
   "source": [
    "borders[:2]"
   ]
  },
  {
   "cell_type": "code",
   "execution_count": 47,
   "id": "6b8c73c5-78e3-4d97-979a-08559b21cfaa",
   "metadata": {},
   "outputs": [],
   "source": [
    "# Verbindung zu PostgreSQL\n",
    "pg_conn = psycopg2.connect(\n",
    "    dbname=\"postgres\",\n",
    "    user=\"postgres\",\n",
    "    password=\"postgres\",\n",
    "    host=\"localhost\",\n",
    "    port=\"5432\"\n",
    ")\n",
    "pg_cursor = pg_conn.cursor()\n",
    "\n",
    "# Load the table encompasses from the DB\n",
    "pg_cursor.execute(\"SELECT * FROM encompasses;\")\n",
    "columns = [desc[0] for desc in pg_cursor.description]\n",
    "rows = pg_cursor.fetchall()\n",
    "\n",
    "# Convert to Dictionaries\n",
    "encompasses = [dict(zip(columns, row)) for row in rows]\n",
    "\n",
    "#Remove keyes with None values\n",
    "for item in encompasses:\n",
    "    if item[\"country\"] is None:\n",
    "        del item[\"country\"]\n",
    "    if item[\"continent\"] is None:\n",
    "        del item[\"continent\"]\n",
    "    if item[\"percentage\"] is None:\n",
    "        del item[\"percentage\"]\n",
    "\n",
    "# Remove empty dictionaries\n",
    "encompasses = [dic for dic in encompasses if dic]\n",
    "\n",
    "# Save it as CSV\n",
    "headers = encompasses[0].keys()\n",
    "with open('encompasses.csv', 'w', newline='\\n', encoding='utf-8') as f:\n",
    "    writer = csv.DictWriter(f, fieldnames=headers, extrasaction='ignore')\n",
    "    writer.writeheader()\n",
    "    writer.writerows(encompasses)"
   ]
  },
  {
   "cell_type": "code",
   "execution_count": 48,
   "id": "ff0a3df5-3891-49ee-8ce7-ea9945505810",
   "metadata": {},
   "outputs": [
    {
     "data": {
      "text/plain": [
       "[{'country': 'AL', 'continent': 'Europe', 'percentage': Decimal('100')},\n",
       " {'country': 'GR', 'continent': 'Europe', 'percentage': Decimal('100')}]"
      ]
     },
     "execution_count": 48,
     "metadata": {},
     "output_type": "execute_result"
    }
   ],
   "source": [
    "encompasses[:2]"
   ]
  },
  {
   "cell_type": "code",
   "execution_count": 49,
   "id": "01bf858f-ee75-46cf-a470-5aae7597b6b1",
   "metadata": {},
   "outputs": [],
   "source": [
    "# Verbindung zu PostgreSQL\n",
    "pg_conn = psycopg2.connect(\n",
    "    dbname=\"postgres\",\n",
    "    user=\"postgres\",\n",
    "    password=\"postgres\",\n",
    "    host=\"localhost\",\n",
    "    port=\"5432\"\n",
    ")\n",
    "pg_cursor = pg_conn.cursor()\n",
    "\n",
    "# Load the table Organization from the DB\n",
    "pg_cursor.execute(\"SELECT * FROM Organization;\")\n",
    "columns = [desc[0] for desc in pg_cursor.description]\n",
    "rows = pg_cursor.fetchall()\n",
    "\n",
    "# Convert to Dictionaries\n",
    "Organization = [dict(zip(columns, row)) for row in rows]\n",
    "\n",
    "#Remove keyes with None values\n",
    "for item in Organization:\n",
    "    if item[\"abbreviation\"] is None:\n",
    "        del item[\"abbreviation\"]\n",
    "    if item[\"name\"] is None:\n",
    "        del item[\"name\"]\n",
    "    if item[\"city\"] is None:\n",
    "        del item[\"city\"]\n",
    "    if item[\"country\"] is None:\n",
    "        del item[\"country\"]\n",
    "    if item[\"province\"] is None:\n",
    "        del item[\"province\"]\n",
    "    if item[\"established\"] is None:\n",
    "        del item[\"established\"]\n",
    "\n",
    "# Remove empty dictionaries\n",
    "Organization = [dic for dic in Organization if dic]\n",
    "\n",
    "# Save it as CSV\n",
    "headers = Organization[0].keys()\n",
    "with open('organization.csv', 'w', newline='\\n', encoding='utf-8') as f:\n",
    "    writer = csv.DictWriter(f, fieldnames=headers, extrasaction='ignore')\n",
    "    writer.writeheader()\n",
    "    writer.writerows(Organization)"
   ]
  },
  {
   "cell_type": "code",
   "execution_count": 50,
   "id": "ccc354a6-f3a0-4724-8aa6-a396129b40eb",
   "metadata": {},
   "outputs": [
    {
     "data": {
      "text/plain": [
       "[{'abbreviation': 'AfDB',\n",
       "  'name': 'African Development Bank Group',\n",
       "  'city': 'Abidjan',\n",
       "  'country': 'CI',\n",
       "  'province': 'Abidjan',\n",
       "  'established': datetime.date(1964, 9, 9)},\n",
       " {'abbreviation': 'AU',\n",
       "  'name': 'African Union',\n",
       "  'city': 'Addis Ababa',\n",
       "  'country': 'ETH',\n",
       "  'province': 'Addis Ababa',\n",
       "  'established': datetime.date(1963, 5, 25)}]"
      ]
     },
     "execution_count": 50,
     "metadata": {},
     "output_type": "execute_result"
    }
   ],
   "source": [
    "Organization[:2]"
   ]
  },
  {
   "cell_type": "code",
   "execution_count": 51,
   "id": "329e25c8-62c5-444d-8500-6ca5a0af04d8",
   "metadata": {},
   "outputs": [],
   "source": [
    "# Verbindung zu PostgreSQL\n",
    "pg_conn = psycopg2.connect(\n",
    "    dbname=\"postgres\",\n",
    "    user=\"postgres\",\n",
    "    password=\"postgres\",\n",
    "    host=\"localhost\",\n",
    "    port=\"5432\"\n",
    ")\n",
    "pg_cursor = pg_conn.cursor()\n",
    "\n",
    "# Load the table Organization from the DB\n",
    "pg_cursor.execute(\"SELECT * FROM isMember;\")\n",
    "columns = [desc[0] for desc in pg_cursor.description]\n",
    "rows = pg_cursor.fetchall()\n",
    "\n",
    "# Convert to Dictionaries\n",
    "isMember = [dict(zip(columns, row)) for row in rows]\n",
    "\n",
    "#Remove keyes with None values\n",
    "for item in isMember:\n",
    "    if item[\"country\"] is None:\n",
    "        del item[\"country\"]\n",
    "    if item[\"organization\"] is None:\n",
    "        del item[\"organization\"]\n",
    "    if item[\"type\"] is None:\n",
    "        del item[\"type\"]\n",
    "\n",
    "# Remove empty dictionaries\n",
    "isMember = [dic for dic in isMember if dic]\n",
    "\n",
    "# Save it as CSV\n",
    "headers = isMember[0].keys()\n",
    "with open('isMember.csv', 'w', newline='\\n', encoding='utf-8') as f:\n",
    "    writer = csv.DictWriter(f, fieldnames=headers, extrasaction='ignore')\n",
    "    writer.writeheader()\n",
    "    writer.writerows(isMember)"
   ]
  },
  {
   "cell_type": "code",
   "execution_count": 52,
   "id": "d50f190d-1de1-4160-a70f-9246335d8f57",
   "metadata": {},
   "outputs": [
    {
     "data": {
      "text/plain": [
       "[{'country': 'ET', 'organization': 'AfDB', 'type': 'regional member'},\n",
       " {'country': 'LAR', 'organization': 'AfDB', 'type': 'regional member'}]"
      ]
     },
     "execution_count": 52,
     "metadata": {},
     "output_type": "execute_result"
    }
   ],
   "source": [
    "isMember[:2]"
   ]
  },
  {
   "cell_type": "code",
   "execution_count": 53,
   "id": "4b458c79-3ccb-4291-8c3e-93caa36e1cee",
   "metadata": {},
   "outputs": [],
   "source": [
    "# Verbindung zu PostgreSQL\n",
    "pg_conn = psycopg2.connect(\n",
    "    dbname=\"postgres\",\n",
    "    user=\"postgres\",\n",
    "    password=\"postgres\",\n",
    "    host=\"localhost\",\n",
    "    port=\"5432\"\n",
    ")\n",
    "pg_cursor = pg_conn.cursor()\n",
    "\n",
    "# Load the table Mountain from the DB\n",
    "pg_cursor.execute(\"SELECT * FROM Mountain;\")\n",
    "columns = [desc[0] for desc in pg_cursor.description]\n",
    "rows = pg_cursor.fetchall()\n",
    "\n",
    "# Convert to Dictionaries\n",
    "Mountain  = [dict(zip(columns, row)) for row in rows]\n",
    "\n",
    "#Remove keyes with None values\n",
    "for item in Mountain:\n",
    "    if item[\"name\"] is None:\n",
    "        del item[\"name\"]\n",
    "    if item[\"mountains\"] is None:\n",
    "        del item[\"mountains\"]\n",
    "    if item[\"elevation\"] is None:\n",
    "        del item[\"elevation\"]\n",
    "    if item[\"type\"] is None:\n",
    "        del item[\"type\"]\n",
    "    if item[\"coordinates\"] is None:\n",
    "        del item[\"coordinates\"]\n",
    "\n",
    "# Remove empty dictionaries\n",
    "Mountain = [dic for dic in Mountain if dic]\n",
    "\n",
    "# Save it as CSV\n",
    "headers = Mountain[0].keys()\n",
    "with open('mountain.csv', 'w', newline='\\n', encoding='utf-8') as f:\n",
    "    writer = csv.DictWriter(f, fieldnames=headers, extrasaction='ignore')\n",
    "    writer.writeheader()\n",
    "    writer.writerows(Mountain)"
   ]
  },
  {
   "cell_type": "code",
   "execution_count": 54,
   "id": "38070e64-4c9e-43b8-a0af-79d1a9ade651",
   "metadata": {},
   "outputs": [
    {
     "data": {
      "text/plain": [
       "[{'name': 'Gunnbjørn Fjeld',\n",
       "  'elevation': Decimal('3694'),\n",
       "  'coordinates': '(68.92,-29.9)'},\n",
       " {'name': 'Newtontoppen',\n",
       "  'elevation': Decimal('1713'),\n",
       "  'coordinates': '(79.0,17.3)'}]"
      ]
     },
     "execution_count": 54,
     "metadata": {},
     "output_type": "execute_result"
    }
   ],
   "source": [
    "Mountain[:2]"
   ]
  },
  {
   "cell_type": "code",
   "execution_count": 55,
   "id": "abf981e9-b774-497a-87ea-78406b7a6e1a",
   "metadata": {},
   "outputs": [],
   "source": [
    "# Verbindung zu PostgreSQL\n",
    "pg_conn = psycopg2.connect(\n",
    "    dbname=\"postgres\",\n",
    "    user=\"postgres\",\n",
    "    password=\"postgres\",\n",
    "    host=\"localhost\",\n",
    "    port=\"5432\"\n",
    ")\n",
    "pg_cursor = pg_conn.cursor()\n",
    "\n",
    "# Load the table Mountain from the DB\n",
    "pg_cursor.execute(\"SELECT * FROM Desert;\")\n",
    "columns = [desc[0] for desc in pg_cursor.description]\n",
    "rows = pg_cursor.fetchall()\n",
    "\n",
    "# Convert to Dictionaries\n",
    "Desert  = [dict(zip(columns, row)) for row in rows]\n",
    "\n",
    "#Remove keyes with None values\n",
    "for item in Desert:\n",
    "    if item[\"name\"] is None:\n",
    "        del item[\"name\"]\n",
    "    if item[\"area\"] is None:\n",
    "        del item[\"area\"]\n",
    "    if item[\"coordinates\"] is None:\n",
    "        del item[\"coordinates\"]\n",
    "\n",
    "# Remove empty dictionaries\n",
    "Desert = [dic for dic in Desert if dic]\n",
    "\n",
    "# Save it as CSV\n",
    "headers = Desert[0].keys()\n",
    "with open('desert.csv', 'w', newline='\\n', encoding='utf-8') as f:\n",
    "    writer = csv.DictWriter(f, fieldnames=headers, extrasaction='ignore')\n",
    "    writer.writeheader()\n",
    "    writer.writerows(Desert)"
   ]
  },
  {
   "cell_type": "code",
   "execution_count": 56,
   "id": "d0cca495-ae0a-4272-8297-b78e40ee8a1b",
   "metadata": {},
   "outputs": [
    {
     "data": {
      "text/plain": [
       "[{'name': 'Kalahari', 'area': Decimal('1200000'), 'coordinates': '(-22,21)'},\n",
       " {'name': 'Namib', 'area': Decimal('95000'), 'coordinates': '(-25,15)'}]"
      ]
     },
     "execution_count": 56,
     "metadata": {},
     "output_type": "execute_result"
    }
   ],
   "source": [
    "Desert[:2]"
   ]
  },
  {
   "cell_type": "code",
   "execution_count": 57,
   "id": "a8f4fa22-f19a-41b3-99e0-65c772572a79",
   "metadata": {},
   "outputs": [],
   "source": [
    "# Verbindung zu PostgreSQL\n",
    "pg_conn = psycopg2.connect(\n",
    "    dbname=\"postgres\",\n",
    "    user=\"postgres\",\n",
    "    password=\"postgres\",\n",
    "    host=\"localhost\",\n",
    "    port=\"5432\"\n",
    ")\n",
    "pg_cursor = pg_conn.cursor()\n",
    "\n",
    "# Load the table Mountain from the DB\n",
    "pg_cursor.execute(\"SELECT * FROM Island;\")\n",
    "columns = [desc[0] for desc in pg_cursor.description]\n",
    "rows = pg_cursor.fetchall()\n",
    "\n",
    "# Convert to Dictionaries\n",
    "Island  = [dict(zip(columns, row)) for row in rows]\n",
    "\n",
    "#Remove keyes with None values\n",
    "for item in Island:\n",
    "    if item[\"name\"] is None:\n",
    "        del item[\"name\"]\n",
    "    if item[\"islands\"] is None:\n",
    "        del item[\"islands\"]\n",
    "    if item[\"area\"] is None:\n",
    "        del item[\"area\"]\n",
    "    if item[\"elevation\"] is None:\n",
    "        del item[\"elevation\"]\n",
    "    if item[\"type\"] is None:\n",
    "        del item[\"type\"]\n",
    "    if item[\"coordinates\"] is None:\n",
    "        del item[\"coordinates\"]\n",
    "\n",
    "# Remove empty dictionaries\n",
    "Island = [dic for dic in Island if dic]\n",
    "\n",
    "# Save it as CSV\n",
    "headers = Island[0].keys()\n",
    "with open('island.csv', 'w', newline='\\n', encoding='utf-8') as f:\n",
    "    writer = csv.DictWriter(f, fieldnames=headers, extrasaction='ignore')\n",
    "    writer.writeheader()\n",
    "    writer.writerows(Island)"
   ]
  },
  {
   "cell_type": "code",
   "execution_count": 58,
   "id": "37cdbe2d-40db-4319-b9f0-ebed8e3b275f",
   "metadata": {},
   "outputs": [
    {
     "data": {
      "text/plain": [
       "[{'name': 'Svalbard',\n",
       "  'islands': 'Svalbard',\n",
       "  'area': Decimal('39044'),\n",
       "  'elevation': Decimal('1713'),\n",
       "  'coordinates': '(78.9,18.2)'},\n",
       " {'name': 'Greenland',\n",
       "  'area': Decimal('2175600'),\n",
       "  'elevation': Decimal('3694'),\n",
       "  'coordinates': '(70,-40)'}]"
      ]
     },
     "execution_count": 58,
     "metadata": {},
     "output_type": "execute_result"
    }
   ],
   "source": [
    "Island[:2]"
   ]
  },
  {
   "cell_type": "code",
   "execution_count": 59,
   "id": "11c19e07-beeb-49d5-867d-20bc7f486f80",
   "metadata": {},
   "outputs": [],
   "source": [
    "# Verbindung zu PostgreSQL\n",
    "pg_conn = psycopg2.connect(\n",
    "    dbname=\"postgres\",\n",
    "    user=\"postgres\",\n",
    "    password=\"postgres\",\n",
    "    host=\"localhost\",\n",
    "    port=\"5432\"\n",
    ")\n",
    "pg_cursor = pg_conn.cursor()\n",
    "\n",
    "# Load the table Lake from the DB\n",
    "pg_cursor.execute(\"SELECT * FROM Lake;\")\n",
    "columns = [desc[0] for desc in pg_cursor.description]\n",
    "rows = pg_cursor.fetchall()\n",
    "\n",
    "# Convert to Dictionaries\n",
    "Lake  = [dict(zip(columns, row)) for row in rows]\n",
    "\n",
    "#Remove keyes with None values\n",
    "for item in Lake:\n",
    "    if item[\"name\"] is None:\n",
    "        del item[\"name\"]\n",
    "    if item[\"river\"] is None:\n",
    "        del item[\"river\"]\n",
    "    if item[\"area\"] is None:\n",
    "        del item[\"area\"]\n",
    "    if item[\"elevation\"] is None:\n",
    "        del item[\"elevation\"]\n",
    "    if item[\"depth\"] is None:\n",
    "        del item[\"depth\"]\n",
    "    if item[\"height\"] is None:\n",
    "        del item[\"height\"]\n",
    "    if item[\"type\"] is None:\n",
    "        del item[\"type\"]\n",
    "    if item[\"coordinates\"] is None:\n",
    "        del item[\"coordinates\"]\n",
    "\n",
    "# Remove empty dictionaries\n",
    "Lake = [dic for dic in Lake if dic]\n",
    "\n",
    "# Save it as CSV\n",
    "headers = Lake[0].keys()\n",
    "with open('Lake.csv', 'w', newline='\\n', encoding='utf-8') as f:\n",
    "    writer = csv.DictWriter(f, fieldnames=headers, extrasaction='ignore')\n",
    "    writer.writeheader()\n",
    "    writer.writerows(Lake)"
   ]
  },
  {
   "cell_type": "code",
   "execution_count": 60,
   "id": "e85198da-66f1-4724-9888-e3f4e14e6a0d",
   "metadata": {},
   "outputs": [
    {
     "data": {
      "text/plain": [
       "[{'name': 'Inarijärvi',\n",
       "  'river': 'Paatsjoki',\n",
       "  'area': Decimal('1040'),\n",
       "  'elevation': Decimal('119'),\n",
       "  'depth': Decimal('92'),\n",
       "  'coordinates': '(68.95,27.7)'},\n",
       " {'name': 'Oulujärvi',\n",
       "  'river': 'Oulujoki',\n",
       "  'area': Decimal('928'),\n",
       "  'elevation': Decimal('123'),\n",
       "  'depth': Decimal('35'),\n",
       "  'coordinates': '(64.3,27.25)'}]"
      ]
     },
     "execution_count": 60,
     "metadata": {},
     "output_type": "execute_result"
    }
   ],
   "source": [
    "Lake[:2]"
   ]
  },
  {
   "cell_type": "code",
   "execution_count": 61,
   "id": "17bd6dc5-ef31-4117-99cc-58be9bc57666",
   "metadata": {},
   "outputs": [],
   "source": [
    "# Verbindung zu PostgreSQL\n",
    "pg_conn = psycopg2.connect(\n",
    "    dbname=\"postgres\",\n",
    "    user=\"postgres\",\n",
    "    password=\"postgres\",\n",
    "    host=\"localhost\",\n",
    "    port=\"5432\"\n",
    ")\n",
    "pg_cursor = pg_conn.cursor()\n",
    "\n",
    "# Load the table Sea from the DB\n",
    "pg_cursor.execute(\"SELECT * FROM Sea;\")\n",
    "columns = [desc[0] for desc in pg_cursor.description]\n",
    "rows = pg_cursor.fetchall()\n",
    "\n",
    "# Convert to Dictionaries\n",
    "Sea  = [dict(zip(columns, row)) for row in rows]\n",
    "\n",
    "#Remove keyes with None values\n",
    "for item in Sea:\n",
    "    if item[\"name\"] is None:\n",
    "        del item[\"name\"]\n",
    "    if item[\"area\"] is None:\n",
    "        del item[\"area\"]\n",
    "    if item[\"depth\"] is None:\n",
    "        del item[\"depth\"]\n",
    "\n",
    "# Remove empty dictionaries\n",
    "Sea = [dic for dic in Sea if dic]\n",
    "\n",
    "# Save it as CSV\n",
    "headers = Sea[0].keys()\n",
    "with open('Sea.csv', 'w', newline='\\n', encoding='utf-8') as f:\n",
    "    writer = csv.DictWriter(f, fieldnames=headers, extrasaction='ignore')\n",
    "    writer.writeheader()\n",
    "    writer.writerows(Sea)"
   ]
  },
  {
   "cell_type": "code",
   "execution_count": 62,
   "id": "d1bfa7dc-d7d1-4f7b-ad15-f982f028c4d3",
   "metadata": {
    "scrolled": true
   },
   "outputs": [
    {
     "data": {
      "text/plain": [
       "[{'name': 'Atlantic Ocean', 'depth': Decimal('9219')},\n",
       " {'name': 'Mediterranean Sea',\n",
       "  'area': Decimal('2500000'),\n",
       "  'depth': Decimal('5267')}]"
      ]
     },
     "execution_count": 62,
     "metadata": {},
     "output_type": "execute_result"
    }
   ],
   "source": [
    "Sea[:2]"
   ]
  },
  {
   "cell_type": "code",
   "execution_count": 63,
   "id": "d3e9a26d-1480-49a9-a75f-9eb9ccbcd33a",
   "metadata": {},
   "outputs": [],
   "source": [
    "# Verbindung zu PostgreSQL\n",
    "pg_conn = psycopg2.connect(\n",
    "    dbname=\"postgres\",\n",
    "    user=\"postgres\",\n",
    "    password=\"postgres\",\n",
    "    host=\"localhost\",\n",
    "    port=\"5432\"\n",
    ")\n",
    "pg_cursor = pg_conn.cursor()\n",
    "\n",
    "# Load the table River from the DB\n",
    "pg_cursor.execute(\"SELECT * FROM River;\")\n",
    "columns = [desc[0] for desc in pg_cursor.description]\n",
    "rows = pg_cursor.fetchall()\n",
    "\n",
    "# Convert to Dictionaries\n",
    "River  = [dict(zip(columns, row)) for row in rows]\n",
    "\n",
    "#Remove keyes with None values\n",
    "for item in River:\n",
    "    if item[\"name\"] is None:\n",
    "        del item[\"name\"]\n",
    "    if item[\"river\"] is None:\n",
    "        del item[\"river\"]\n",
    "    if item[\"lake\"] is None:\n",
    "        del item[\"lake\"]\n",
    "    if item[\"sea\"] is None:\n",
    "        del item[\"sea\"]\n",
    "    if item[\"length\"] is None:\n",
    "        del item[\"length\"]\n",
    "    if item[\"area\"] is None:\n",
    "        del item[\"area\"]\n",
    "    if item[\"source\"] is None:\n",
    "        del item[\"source\"]\n",
    "    if item[\"mountains\"] is None:\n",
    "        del item[\"mountains\"]\n",
    "    if item[\"sourceelevation\"] is None:\n",
    "        del item[\"sourceelevation\"]\n",
    "    if item[\"estuary\"] is None:\n",
    "        del item[\"estuary\"]\n",
    "    if item[\"estuaryelevation\"] is None:\n",
    "        del item[\"estuaryelevation\"]\n",
    "        \n",
    "# Remove empty dictionaries\n",
    "River = [dic for dic in River if dic]\n",
    "\n",
    "# Save it as CSV\n",
    "headers = River[0].keys()\n",
    "with open('River.csv', 'w', newline='\\n', encoding='utf-8') as f:\n",
    "    writer = csv.DictWriter(f, fieldnames=headers, extrasaction='ignore')\n",
    "    writer.writeheader()\n",
    "    writer.writerows(River)"
   ]
  },
  {
   "cell_type": "code",
   "execution_count": 64,
   "id": "189a6510-292a-4cc0-8c58-e703d6ea0d73",
   "metadata": {},
   "outputs": [
    {
     "data": {
      "text/plain": [
       "[{'name': 'Thjorsa',\n",
       "  'sea': 'Atlantic Ocean',\n",
       "  'length': Decimal('230'),\n",
       "  'area': Decimal('7530'),\n",
       "  'source': '(65,-18)',\n",
       "  'estuary': '(63.9,-20.8)',\n",
       "  'estuaryelevation': Decimal('0')},\n",
       " {'name': 'Jökulsa a Fjöllum',\n",
       "  'sea': 'Greenland Sea',\n",
       "  'length': Decimal('206'),\n",
       "  'area': Decimal('7380'),\n",
       "  'source': '(64.8,-16.5)',\n",
       "  'estuary': '(66.2,-16.6)',\n",
       "  'estuaryelevation': Decimal('0')}]"
      ]
     },
     "execution_count": 64,
     "metadata": {},
     "output_type": "execute_result"
    }
   ],
   "source": [
    "River[:2]"
   ]
  },
  {
   "cell_type": "code",
   "execution_count": 65,
   "id": "2f202f36-5839-4c27-92e3-03ae21f4b96f",
   "metadata": {},
   "outputs": [],
   "source": [
    "# Verbindung zu PostgreSQL\n",
    "pg_conn = psycopg2.connect(\n",
    "    dbname=\"postgres\",\n",
    "    user=\"postgres\",\n",
    "    password=\"postgres\",\n",
    "    host=\"localhost\",\n",
    "    port=\"5432\"\n",
    ")\n",
    "pg_cursor = pg_conn.cursor()\n",
    "\n",
    "# Load the table River from the DB\n",
    "pg_cursor.execute(\"SELECT * FROM RiverThrough;\")\n",
    "columns = [desc[0] for desc in pg_cursor.description]\n",
    "rows = pg_cursor.fetchall()\n",
    "\n",
    "# Convert to Dictionaries\n",
    "RiverThrough  = [dict(zip(columns, row)) for row in rows]\n",
    "\n",
    "#Remove keyes with None values\n",
    "for item in RiverThrough:\n",
    "    if item[\"river\"] is None:\n",
    "        del item[\"river\"]\n",
    "    if item[\"lake\"] is None:\n",
    "        del item[\"lake\"]\n",
    "\n",
    "# Remove empty dictionaries\n",
    "RiverThrough = [dic for dic in RiverThrough if dic]\n",
    "\n",
    "# Save it as CSV\n",
    "headers = RiverThrough[0].keys()\n",
    "with open('RiverThrough.csv', 'w', newline='\\n', encoding='utf-8') as f:\n",
    "    writer = csv.DictWriter(f, fieldnames=headers, extrasaction='ignore')\n",
    "    writer.writeheader()\n",
    "    writer.writerows(RiverThrough)"
   ]
  },
  {
   "cell_type": "code",
   "execution_count": 66,
   "id": "ce9f13b2-036d-4819-aaa1-0163c3ebe1bc",
   "metadata": {
    "scrolled": true
   },
   "outputs": [
    {
     "data": {
      "text/plain": [
       "[{'river': 'Bann', 'lake': 'Lough Neagh'},\n",
       " {'river': 'Lågen', 'lake': 'Mjoesa-See'}]"
      ]
     },
     "execution_count": 66,
     "metadata": {},
     "output_type": "execute_result"
    }
   ],
   "source": [
    "RiverThrough[:2]"
   ]
  },
  {
   "cell_type": "code",
   "execution_count": 67,
   "id": "6e0e6b92-f09e-46fc-b46d-5e2b4e14615b",
   "metadata": {},
   "outputs": [],
   "source": [
    "# Verbindung zu PostgreSQL\n",
    "pg_conn = psycopg2.connect(\n",
    "    dbname=\"postgres\",\n",
    "    user=\"postgres\",\n",
    "    password=\"postgres\",\n",
    "    host=\"localhost\",\n",
    "    port=\"5432\"\n",
    ")\n",
    "pg_cursor = pg_conn.cursor()\n",
    "\n",
    "# Load the table geo_Mountain from the DB\n",
    "pg_cursor.execute(\"SELECT * FROM geo_Mountain;\")\n",
    "columns = [desc[0] for desc in pg_cursor.description]\n",
    "rows = pg_cursor.fetchall()\n",
    "\n",
    "# Convert to Dictionaries\n",
    "geo_Mountain  = [dict(zip(columns, row)) for row in rows]\n",
    "\n",
    "#Remove keyes with None values\n",
    "for item in geo_Mountain:\n",
    "    if item[\"mountain\"] is None:\n",
    "        del item[\"mountain\"]\n",
    "    if item[\"country\"] is None:\n",
    "        del item[\"country\"]\n",
    "    if item[\"province\"] is None:\n",
    "        del item[\"province\"]\n",
    "\n",
    "# Remove empty dictionaries\n",
    "geo_Mountain = [dic for dic in geo_Mountain if dic]\n",
    "\n",
    "# Save it as CSV\n",
    "headers = geo_Mountain[0].keys()\n",
    "with open('geo_Mountain.csv', 'w', newline='\\n', encoding='utf-8') as f:\n",
    "    writer = csv.DictWriter(f, fieldnames=headers, extrasaction='ignore')\n",
    "    writer.writeheader()\n",
    "    writer.writerows(geo_Mountain)"
   ]
  },
  {
   "cell_type": "code",
   "execution_count": 68,
   "id": "20b4255a-b3d4-4854-bc43-acaa4b603089",
   "metadata": {},
   "outputs": [
    {
     "data": {
      "text/plain": [
       "[{'mountain': 'Gunnbjørn Fjeld', 'country': 'GL', 'province': 'Greenland'},\n",
       " {'mountain': 'Newtontoppen', 'country': 'SVA', 'province': 'Svalbard'}]"
      ]
     },
     "execution_count": 68,
     "metadata": {},
     "output_type": "execute_result"
    }
   ],
   "source": [
    "geo_Mountain[:2]"
   ]
  },
  {
   "cell_type": "code",
   "execution_count": 69,
   "id": "755bc0bd-3edf-4dd8-83c8-471356a93fe2",
   "metadata": {},
   "outputs": [],
   "source": [
    "# Verbindung zu PostgreSQL\n",
    "pg_conn = psycopg2.connect(\n",
    "    dbname=\"postgres\",\n",
    "    user=\"postgres\",\n",
    "    password=\"postgres\",\n",
    "    host=\"localhost\",\n",
    "    port=\"5432\"\n",
    ")\n",
    "pg_cursor = pg_conn.cursor()\n",
    "\n",
    "# Load the table geo_Desert from the DB\n",
    "pg_cursor.execute(\"SELECT * FROM geo_Desert;\")\n",
    "columns = [desc[0] for desc in pg_cursor.description]\n",
    "rows = pg_cursor.fetchall()\n",
    "\n",
    "# Convert to Dictionaries\n",
    "geo_Desert  = [dict(zip(columns, row)) for row in rows]\n",
    "\n",
    "#Remove keyes with None values\n",
    "for item in geo_Desert:\n",
    "    if item[\"desert\"] is None:\n",
    "        del item[\"desert\"]\n",
    "    if item[\"country\"] is None:\n",
    "        del item[\"country\"]\n",
    "    if item[\"province\"] is None:\n",
    "        del item[\"province\"]\n",
    "\n",
    "# Remove empty dictionaries\n",
    "geo_Desert = [dic for dic in geo_Desert if dic]\n",
    "\n",
    "# Save it as CSV\n",
    "headers = geo_Desert[0].keys()\n",
    "with open('geo_Desert.csv', 'w', newline='\\n', encoding='utf-8') as f:\n",
    "    writer = csv.DictWriter(f, fieldnames=headers, extrasaction='ignore')\n",
    "    writer.writeheader()\n",
    "    writer.writerows(geo_Desert)"
   ]
  },
  {
   "cell_type": "code",
   "execution_count": 70,
   "id": "aaabbb44-4b36-4380-95b1-0065876bb8e8",
   "metadata": {},
   "outputs": [
    {
     "data": {
      "text/plain": [
       "[{'desert': 'Kalahari', 'country': 'ANG', 'province': 'Moxico'},\n",
       " {'desert': 'Kalahari', 'country': 'ANG', 'province': 'Cuando Cubango'}]"
      ]
     },
     "execution_count": 70,
     "metadata": {},
     "output_type": "execute_result"
    }
   ],
   "source": [
    "geo_Desert[:2]"
   ]
  },
  {
   "cell_type": "code",
   "execution_count": 71,
   "id": "709d84f5-dd80-4697-93f4-b1deec977c7b",
   "metadata": {},
   "outputs": [],
   "source": [
    "# Verbindung zu PostgreSQL\n",
    "pg_conn = psycopg2.connect(\n",
    "    dbname=\"postgres\",\n",
    "    user=\"postgres\",\n",
    "    password=\"postgres\",\n",
    "    host=\"localhost\",\n",
    "    port=\"5432\"\n",
    ")\n",
    "pg_cursor = pg_conn.cursor()\n",
    "\n",
    "# Load the table geo_Desert from the DB\n",
    "pg_cursor.execute(\"SELECT * FROM geo_Island;\")\n",
    "columns = [desc[0] for desc in pg_cursor.description]\n",
    "rows = pg_cursor.fetchall()\n",
    "\n",
    "# Convert to Dictionaries\n",
    "geo_Island  = [dict(zip(columns, row)) for row in rows]\n",
    "\n",
    "#Remove keyes with None values\n",
    "for item in geo_Island:\n",
    "    if item[\"island\"] is None:\n",
    "        del item[\"island\"]\n",
    "    if item[\"country\"] is None:\n",
    "        del item[\"country\"]\n",
    "    if item[\"province\"] is None:\n",
    "        del item[\"province\"]\n",
    "\n",
    "# Remove empty dictionaries\n",
    "geo_Island = [dic for dic in geo_Island if dic]\n",
    "\n",
    "# Save it as CSV\n",
    "headers = geo_Island[0].keys()\n",
    "with open('geo_Island.csv', 'w', newline='\\n', encoding='utf-8') as f:\n",
    "    writer = csv.DictWriter(f, fieldnames=headers, extrasaction='ignore')\n",
    "    writer.writeheader()\n",
    "    writer.writerows(geo_Island)"
   ]
  },
  {
   "cell_type": "code",
   "execution_count": 72,
   "id": "9d06ee97-83d2-493e-a1d0-d730c128e4ba",
   "metadata": {},
   "outputs": [
    {
     "data": {
      "text/plain": [
       "[{'island': 'Svalbard', 'country': 'SVA', 'province': 'Svalbard'},\n",
       " {'island': 'Greenland', 'country': 'GL', 'province': 'Greenland'}]"
      ]
     },
     "execution_count": 72,
     "metadata": {},
     "output_type": "execute_result"
    }
   ],
   "source": [
    "geo_Island[:2]"
   ]
  },
  {
   "cell_type": "code",
   "execution_count": 73,
   "id": "d4e67509-cee7-4d86-b46c-28c8f8f6c9ca",
   "metadata": {},
   "outputs": [],
   "source": [
    "# Verbindung zu PostgreSQL\n",
    "pg_conn = psycopg2.connect(\n",
    "    dbname=\"postgres\",\n",
    "    user=\"postgres\",\n",
    "    password=\"postgres\",\n",
    "    host=\"localhost\",\n",
    "    port=\"5432\"\n",
    ")\n",
    "pg_cursor = pg_conn.cursor()\n",
    "\n",
    "# Load the table geo_Desert from the DB\n",
    "pg_cursor.execute(\"SELECT * FROM geo_River;\")\n",
    "columns = [desc[0] for desc in pg_cursor.description]\n",
    "rows = pg_cursor.fetchall()\n",
    "\n",
    "# Convert to Dictionaries\n",
    "geo_River  = [dict(zip(columns, row)) for row in rows]\n",
    "\n",
    "#Remove keyes with None values\n",
    "for item in geo_River:\n",
    "    if item[\"river\"] is None:\n",
    "        del item[\"river\"]\n",
    "    if item[\"country\"] is None:\n",
    "        del item[\"country\"]\n",
    "    if item[\"province\"] is None:\n",
    "        del item[\"province\"]\n",
    "\n",
    "# Remove empty dictionaries\n",
    "geo_River = [dic for dic in geo_River if dic]\n",
    "\n",
    "# Save it as CSV\n",
    "headers = geo_River[0].keys()\n",
    "with open('geo_River.csv', 'w', newline='\\n', encoding='utf-8') as f:\n",
    "    writer = csv.DictWriter(f, fieldnames=headers, extrasaction='ignore')\n",
    "    writer.writeheader()\n",
    "    writer.writerows(geo_River)"
   ]
  },
  {
   "cell_type": "code",
   "execution_count": 74,
   "id": "e3e34df6-0fae-4e4d-8972-791556dfe366",
   "metadata": {},
   "outputs": [
    {
     "data": {
      "text/plain": [
       "[{'river': 'Thjorsa', 'country': 'IS', 'province': 'Iceland'},\n",
       " {'river': 'Jökulsa a Fjöllum', 'country': 'IS', 'province': 'Iceland'}]"
      ]
     },
     "execution_count": 74,
     "metadata": {},
     "output_type": "execute_result"
    }
   ],
   "source": [
    "geo_River[:2]"
   ]
  },
  {
   "cell_type": "code",
   "execution_count": 75,
   "id": "c4d0c5b5-cb24-4ac0-acdc-1a8c1571eea2",
   "metadata": {},
   "outputs": [],
   "source": [
    "# Verbindung zu PostgreSQL\n",
    "pg_conn = psycopg2.connect(\n",
    "    dbname=\"postgres\",\n",
    "    user=\"postgres\",\n",
    "    password=\"postgres\",\n",
    "    host=\"localhost\",\n",
    "    port=\"5432\"\n",
    ")\n",
    "pg_cursor = pg_conn.cursor()\n",
    "\n",
    "# Load the table geo_Sea from the DB\n",
    "pg_cursor.execute(\"SELECT * FROM geo_Sea;\")\n",
    "columns = [desc[0] for desc in pg_cursor.description]\n",
    "rows = pg_cursor.fetchall()\n",
    "\n",
    "# Convert to Dictionaries\n",
    "geo_Sea  = [dict(zip(columns, row)) for row in rows]\n",
    "\n",
    "#Remove keyes with None values\n",
    "for item in geo_Sea:\n",
    "    if item[\"sea\"] is None:\n",
    "        del item[\"sea\"]\n",
    "    if item[\"country\"] is None:\n",
    "        del item[\"country\"]\n",
    "    if item[\"province\"] is None:\n",
    "        del item[\"province\"]\n",
    "\n",
    "# Remove empty dictionaries\n",
    "geo_Sea = [dic for dic in geo_Sea if dic]\n",
    "\n",
    "# Save it as CSV\n",
    "headers = geo_Sea[0].keys()\n",
    "with open('geo_Sea.csv', 'w', newline='\\n', encoding='utf-8') as f:\n",
    "    writer = csv.DictWriter(f, fieldnames=headers, extrasaction='ignore')\n",
    "    writer.writeheader()\n",
    "    writer.writerows(geo_Sea)"
   ]
  },
  {
   "cell_type": "code",
   "execution_count": 76,
   "id": "d1aa8ce6-46d5-417a-8803-677f0e3150f3",
   "metadata": {},
   "outputs": [
    {
     "data": {
      "text/plain": [
       "[{'sea': 'Atlantic Ocean', 'country': 'F', 'province': 'Nouvelle-Aquitaine'},\n",
       " {'sea': 'Atlantic Ocean', 'country': 'F', 'province': 'Bretagne'}]"
      ]
     },
     "execution_count": 76,
     "metadata": {},
     "output_type": "execute_result"
    }
   ],
   "source": [
    "geo_Sea[:2]"
   ]
  },
  {
   "cell_type": "code",
   "execution_count": 77,
   "id": "a3b4515a-2d19-46fc-8150-8786b58d4dd6",
   "metadata": {},
   "outputs": [],
   "source": [
    "# Verbindung zu PostgreSQL\n",
    "pg_conn = psycopg2.connect(\n",
    "    dbname=\"postgres\",\n",
    "    user=\"postgres\",\n",
    "    password=\"postgres\",\n",
    "    host=\"localhost\",\n",
    "    port=\"5432\"\n",
    ")\n",
    "pg_cursor = pg_conn.cursor()\n",
    "\n",
    "# Load the table geo_Lake from the DB\n",
    "pg_cursor.execute(\"SELECT * FROM geo_Lake;\")\n",
    "columns = [desc[0] for desc in pg_cursor.description]\n",
    "rows = pg_cursor.fetchall()\n",
    "\n",
    "# Convert to Dictionaries\n",
    "geo_Lake  = [dict(zip(columns, row)) for row in rows]\n",
    "\n",
    "#Remove keyes with None values\n",
    "for item in geo_Lake:\n",
    "    if item[\"lake\"] is None:\n",
    "        del item[\"lake\"]\n",
    "    if item[\"country\"] is None:\n",
    "        del item[\"country\"]\n",
    "    if item[\"province\"] is None:\n",
    "        del item[\"province\"]\n",
    "\n",
    "# Remove empty dictionaries\n",
    "geo_Lake = [dic for dic in geo_Lake if dic]\n",
    "\n",
    "# Save it as CSV\n",
    "headers = geo_Lake[0].keys()\n",
    "with open('geo_Lake.csv', 'w', newline='\\n', encoding='utf-8') as f:\n",
    "    writer = csv.DictWriter(f, fieldnames=headers, extrasaction='ignore')\n",
    "    writer.writeheader()\n",
    "    writer.writerows(geo_Lake)"
   ]
  },
  {
   "cell_type": "code",
   "execution_count": 78,
   "id": "668a6af0-55af-4352-b65e-e8250c04a494",
   "metadata": {},
   "outputs": [
    {
     "data": {
      "text/plain": [
       "[{'lake': 'Inarijärvi', 'country': 'SF', 'province': 'Lappia'},\n",
       " {'lake': 'Oulujärvi', 'country': 'SF', 'province': 'Kainuu'}]"
      ]
     },
     "execution_count": 78,
     "metadata": {},
     "output_type": "execute_result"
    }
   ],
   "source": [
    "geo_Lake[:2]"
   ]
  },
  {
   "cell_type": "code",
   "execution_count": 79,
   "id": "31922db0-ad37-4b65-b7ae-5a6dbc0dd4b3",
   "metadata": {},
   "outputs": [],
   "source": [
    "# Verbindung zu PostgreSQL\n",
    "pg_conn = psycopg2.connect(\n",
    "    dbname=\"postgres\",\n",
    "    user=\"postgres\",\n",
    "    password=\"postgres\",\n",
    "    host=\"localhost\",\n",
    "    port=\"5432\"\n",
    ")\n",
    "pg_cursor = pg_conn.cursor()\n",
    "\n",
    "# Load the table geo_Source from the DB\n",
    "pg_cursor.execute(\"SELECT * FROM geo_Source;\")\n",
    "columns = [desc[0] for desc in pg_cursor.description]\n",
    "rows = pg_cursor.fetchall()\n",
    "\n",
    "# Convert to Dictionaries\n",
    "geo_Source  = [dict(zip(columns, row)) for row in rows]\n",
    "\n",
    "#Remove keyes with None values\n",
    "for item in geo_Source:\n",
    "    if item[\"river\"] is None:\n",
    "        del item[\"river\"]\n",
    "    if item[\"country\"] is None:\n",
    "        del item[\"country\"]\n",
    "    if item[\"province\"] is None:\n",
    "        del item[\"province\"]\n",
    "\n",
    "# Remove empty dictionaries\n",
    "geo_Source = [dic for dic in geo_Source if dic]\n",
    "\n",
    "# Save it as CSV\n",
    "headers = geo_Source[0].keys()\n",
    "with open('geo_Source.csv', 'w', newline='\\n', encoding='utf-8') as f:\n",
    "    writer = csv.DictWriter(f, fieldnames=headers, extrasaction='ignore')\n",
    "    writer.writeheader()\n",
    "    writer.writerows(geo_Source)"
   ]
  },
  {
   "cell_type": "code",
   "execution_count": 80,
   "id": "a7fe58eb-b1a9-4d60-ba38-3bbf5bbac531",
   "metadata": {},
   "outputs": [
    {
     "data": {
      "text/plain": [
       "[{'river': 'Thjorsa', 'country': 'IS', 'province': 'Iceland'},\n",
       " {'river': 'Jökulsa a Fjöllum', 'country': 'IS', 'province': 'Iceland'}]"
      ]
     },
     "execution_count": 80,
     "metadata": {},
     "output_type": "execute_result"
    }
   ],
   "source": [
    "geo_Source[:2]"
   ]
  },
  {
   "cell_type": "code",
   "execution_count": 81,
   "id": "fc93f443-5096-41ca-87ff-c46b70040ea7",
   "metadata": {},
   "outputs": [],
   "source": [
    "# Verbindung zu PostgreSQL\n",
    "pg_conn = psycopg2.connect(\n",
    "    dbname=\"postgres\",\n",
    "    user=\"postgres\",\n",
    "    password=\"postgres\",\n",
    "    host=\"localhost\",\n",
    "    port=\"5432\"\n",
    ")\n",
    "pg_cursor = pg_conn.cursor()\n",
    "\n",
    "# Load the table geo_Estuary from the DB\n",
    "pg_cursor.execute(\"SELECT * FROM geo_Estuary;\")\n",
    "columns = [desc[0] for desc in pg_cursor.description]\n",
    "rows = pg_cursor.fetchall()\n",
    "\n",
    "# Convert to Dictionaries\n",
    "geo_Estuary  = [dict(zip(columns, row)) for row in rows]\n",
    "\n",
    "#Remove keyes with None values\n",
    "for item in geo_Estuary:\n",
    "    if item[\"river\"] is None:\n",
    "        del item[\"river\"]\n",
    "    if item[\"country\"] is None:\n",
    "        del item[\"country\"]\n",
    "    if item[\"province\"] is None:\n",
    "        del item[\"province\"]\n",
    "\n",
    "# Remove empty dictionaries\n",
    "geo_Estuary = [dic for dic in geo_Estuary if dic]\n",
    "\n",
    "# Save it as CSV\n",
    "headers = geo_Estuary[0].keys()\n",
    "with open('geo_Estuary.csv', 'w', newline='\\n', encoding='utf-8') as f:\n",
    "    writer = csv.DictWriter(f, fieldnames=headers, extrasaction='ignore')\n",
    "    writer.writeheader()\n",
    "    writer.writerows(geo_Estuary)"
   ]
  },
  {
   "cell_type": "code",
   "execution_count": 82,
   "id": "01a6ce23-a3bb-4b79-a05f-c06211716b49",
   "metadata": {},
   "outputs": [
    {
     "data": {
      "text/plain": [
       "[{'river': 'Thjorsa', 'country': 'IS', 'province': 'Iceland'},\n",
       " {'river': 'Jökulsa a Fjöllum', 'country': 'IS', 'province': 'Iceland'}]"
      ]
     },
     "execution_count": 82,
     "metadata": {},
     "output_type": "execute_result"
    }
   ],
   "source": [
    "geo_Estuary[:2]"
   ]
  },
  {
   "cell_type": "code",
   "execution_count": 83,
   "id": "5425f944-980e-407a-a42f-c796a61a39e9",
   "metadata": {},
   "outputs": [],
   "source": [
    "# Verbindung zu PostgreSQL\n",
    "pg_conn = psycopg2.connect(\n",
    "    dbname=\"postgres\",\n",
    "    user=\"postgres\",\n",
    "    password=\"postgres\",\n",
    "    host=\"localhost\",\n",
    "    port=\"5432\"\n",
    ")\n",
    "pg_cursor = pg_conn.cursor()\n",
    "\n",
    "# Load the table mergesWith from the DB\n",
    "pg_cursor.execute(\"SELECT * FROM mergesWith;\")\n",
    "columns = [desc[0] for desc in pg_cursor.description]\n",
    "rows = pg_cursor.fetchall()\n",
    "\n",
    "# Convert to Dictionaries\n",
    "mergesWith  = [dict(zip(columns, row)) for row in rows]\n",
    "\n",
    "#Remove keyes with None values\n",
    "for item in mergesWith:\n",
    "    if item[\"sea1\"] is None:\n",
    "        del item[\"sea1\"]\n",
    "    if item[\"sea2\"] is None:\n",
    "        del item[\"sea2\"]\n",
    "\n",
    "# Remove empty dictionaries\n",
    "mergesWith = [dic for dic in mergesWith if dic]\n",
    "\n",
    "# Save it as CSV\n",
    "headers = mergesWith[0].keys()\n",
    "with open('mergesWith.csv', 'w', newline='\\n', encoding='utf-8') as f:\n",
    "    writer = csv.DictWriter(f, fieldnames=headers, extrasaction='ignore')\n",
    "    writer.writeheader()\n",
    "    writer.writerows(mergesWith)"
   ]
  },
  {
   "cell_type": "code",
   "execution_count": 84,
   "id": "386c8825-91cb-4e6b-9f3c-eebfff02e3bb",
   "metadata": {
    "scrolled": true
   },
   "outputs": [
    {
     "data": {
      "text/plain": [
       "[{'sea1': 'Atlantic Ocean', 'sea2': 'Mediterranean Sea'},\n",
       " {'sea1': 'Atlantic Ocean', 'sea2': 'The Channel'}]"
      ]
     },
     "execution_count": 84,
     "metadata": {},
     "output_type": "execute_result"
    }
   ],
   "source": [
    "mergesWith[:2]"
   ]
  },
  {
   "cell_type": "code",
   "execution_count": 85,
   "id": "dcbdc265-3982-4846-8285-fa338cc55d8a",
   "metadata": {},
   "outputs": [],
   "source": [
    "# Verbindung zu PostgreSQL\n",
    "pg_conn = psycopg2.connect(\n",
    "    dbname=\"postgres\",\n",
    "    user=\"postgres\",\n",
    "    password=\"postgres\",\n",
    "    host=\"localhost\",\n",
    "    port=\"5432\"\n",
    ")\n",
    "pg_cursor = pg_conn.cursor()\n",
    "\n",
    "# Load the table located from the DB\n",
    "pg_cursor.execute(\"SELECT * FROM located;\")\n",
    "columns = [desc[0] for desc in pg_cursor.description]\n",
    "rows = pg_cursor.fetchall()\n",
    "\n",
    "# Convert to Dictionaries\n",
    "located  = [dict(zip(columns, row)) for row in rows]\n",
    "\n",
    "#Remove keyes with None values\n",
    "for item in located:\n",
    "    if item[\"city\"] is None:\n",
    "        del item[\"city\"]\n",
    "    if item[\"province\"] is None:\n",
    "        del item[\"province\"]\n",
    "    if item[\"country\"] is None:\n",
    "        del item[\"country\"]\n",
    "    if item[\"river\"] is None:\n",
    "        del item[\"river\"]\n",
    "    if item[\"lake\"] is None:\n",
    "        del item[\"lake\"]\n",
    "    if item[\"sea\"] is None:\n",
    "        del item[\"sea\"]\n",
    "\n",
    "# Remove empty dictionaries\n",
    "located = [dic for dic in located if dic]\n",
    "\n",
    "# Save it as CSV\n",
    "headers = located[0].keys()\n",
    "with open('located.csv', 'w', newline='\\n', encoding='utf-8') as f:\n",
    "    writer = csv.DictWriter(f, fieldnames=headers, extrasaction='ignore')\n",
    "    writer.writeheader()\n",
    "    writer.writerows(located)"
   ]
  },
  {
   "cell_type": "code",
   "execution_count": 86,
   "id": "d1b103de-ff7c-4261-b2e6-be826d61821c",
   "metadata": {},
   "outputs": [
    {
     "data": {
      "text/plain": [
       "[{'city': 'Shkodër',\n",
       "  'province': 'Albania',\n",
       "  'country': 'AL',\n",
       "  'lake': 'Lake Skutari'},\n",
       " {'city': 'Durrës',\n",
       "  'province': 'Albania',\n",
       "  'country': 'AL',\n",
       "  'sea': 'Mediterranean Sea'}]"
      ]
     },
     "execution_count": 86,
     "metadata": {},
     "output_type": "execute_result"
    }
   ],
   "source": [
    "located[:2]"
   ]
  },
  {
   "cell_type": "code",
   "execution_count": 87,
   "id": "facab5dc-001a-445a-a14c-61944504d81a",
   "metadata": {},
   "outputs": [],
   "source": [
    "# Verbindung zu PostgreSQL\n",
    "pg_conn = psycopg2.connect(\n",
    "    dbname=\"postgres\",\n",
    "    user=\"postgres\",\n",
    "    password=\"postgres\",\n",
    "    host=\"localhost\",\n",
    "    port=\"5432\"\n",
    ")\n",
    "pg_cursor = pg_conn.cursor()\n",
    "\n",
    "# Load the table located from the DB\n",
    "pg_cursor.execute(\"SELECT * FROM locatedOn;\")\n",
    "columns = [desc[0] for desc in pg_cursor.description]\n",
    "rows = pg_cursor.fetchall()\n",
    "\n",
    "# Convert to Dictionaries\n",
    "locatedOn  = [dict(zip(columns, row)) for row in rows]\n",
    "\n",
    "#Remove keyes with None values\n",
    "for item in locatedOn:\n",
    "    if item[\"city\"] is None:\n",
    "        del item[\"city\"]\n",
    "    if item[\"province\"] is None:\n",
    "        del item[\"province\"]\n",
    "    if item[\"country\"] is None:\n",
    "        del item[\"country\"]\n",
    "    if item[\"island\"] is None:\n",
    "        del item[\"island\"]\n",
    "\n",
    "# Remove empty dictionaries\n",
    "locatedOn = [dic for dic in locatedOn if dic]\n",
    "\n",
    "# Save it as CSV\n",
    "headers = locatedOn[0].keys()\n",
    "with open('locatedOn.csv', 'w', newline='\\n', encoding='utf-8') as f:\n",
    "    writer = csv.DictWriter(f, fieldnames=headers, extrasaction='ignore')\n",
    "    writer.writeheader()\n",
    "    writer.writerows(locatedOn)"
   ]
  },
  {
   "cell_type": "code",
   "execution_count": 88,
   "id": "eeda31f1-67b4-4110-a49a-ee4503dd4ef2",
   "metadata": {},
   "outputs": [
    {
     "data": {
      "text/plain": [
       "[{'city': 'Kerkyra',\n",
       "  'province': 'Ionion Nison',\n",
       "  'country': 'GR',\n",
       "  'island': 'Korfu'},\n",
       " {'city': 'Iraklio', 'province': 'Kritis', 'country': 'GR', 'island': 'Crete'}]"
      ]
     },
     "execution_count": 88,
     "metadata": {},
     "output_type": "execute_result"
    }
   ],
   "source": [
    "locatedOn[:2]"
   ]
  },
  {
   "cell_type": "code",
   "execution_count": 89,
   "id": "e17b06be-5689-4464-a6e5-3cbf77fd7568",
   "metadata": {},
   "outputs": [],
   "source": [
    "# Verbindung zu PostgreSQL\n",
    "pg_conn = psycopg2.connect(\n",
    "    dbname=\"postgres\",\n",
    "    user=\"postgres\",\n",
    "    password=\"postgres\",\n",
    "    host=\"localhost\",\n",
    "    port=\"5432\"\n",
    ")\n",
    "pg_cursor = pg_conn.cursor()\n",
    "\n",
    "# Load the table islandIn from the DB\n",
    "pg_cursor.execute(\"SELECT * FROM islandIn;\")\n",
    "columns = [desc[0] for desc in pg_cursor.description]\n",
    "rows = pg_cursor.fetchall()\n",
    "\n",
    "# Convert to Dictionaries\n",
    "islandIn  = [dict(zip(columns, row)) for row in rows]\n",
    "\n",
    "#Remove keyes with None values\n",
    "for item in islandIn:\n",
    "    if item[\"island\"] is None:\n",
    "        del item[\"island\"]\n",
    "    if item[\"sea\"] is None:\n",
    "        del item[\"sea\"]\n",
    "    if item[\"lake\"] is None:\n",
    "        del item[\"lake\"]\n",
    "    if item[\"river\"] is None:\n",
    "        del item[\"river\"]\n",
    "\n",
    "# Remove empty dictionaries\n",
    "islandIn = [dic for dic in islandIn if dic]\n",
    "\n",
    "# Save it as CSV\n",
    "headers = islandIn[0].keys()\n",
    "with open('islandIn.csv', 'w', newline='\\n', encoding='utf-8') as f:\n",
    "    writer = csv.DictWriter(f, fieldnames=headers, extrasaction='ignore')\n",
    "    writer.writeheader()\n",
    "    writer.writerows(islandIn)"
   ]
  },
  {
   "cell_type": "code",
   "execution_count": 90,
   "id": "45fb6d6e-69af-43f5-8be0-7f31567e22cd",
   "metadata": {},
   "outputs": [
    {
     "data": {
      "text/plain": [
       "[{'island': 'Svalbard', 'sea': 'Norwegian Sea'},\n",
       " {'island': 'Svalbard', 'sea': 'Greenland Sea'}]"
      ]
     },
     "execution_count": 90,
     "metadata": {},
     "output_type": "execute_result"
    }
   ],
   "source": [
    "islandIn[:2]"
   ]
  },
  {
   "cell_type": "code",
   "execution_count": 91,
   "id": "758170b3-4f6f-46ed-bc73-97090ed51a6a",
   "metadata": {},
   "outputs": [],
   "source": [
    "# Verbindung zu PostgreSQL\n",
    "pg_conn = psycopg2.connect(\n",
    "    dbname=\"postgres\",\n",
    "    user=\"postgres\",\n",
    "    password=\"postgres\",\n",
    "    host=\"localhost\",\n",
    "    port=\"5432\"\n",
    ")\n",
    "pg_cursor = pg_conn.cursor()\n",
    "\n",
    "# Load the table MountainOnIsland from the DB\n",
    "pg_cursor.execute(\"SELECT * FROM MountainOnIsland;\")\n",
    "columns = [desc[0] for desc in pg_cursor.description]\n",
    "rows = pg_cursor.fetchall()\n",
    "\n",
    "# Convert to Dictionaries\n",
    "MountainOnIsland  = [dict(zip(columns, row)) for row in rows]\n",
    "\n",
    "#Remove keyes with None values\n",
    "for item in MountainOnIsland:\n",
    "    if item[\"mountain\"] is None:\n",
    "        del item[\"mountain\"]\n",
    "    if item[\"island\"] is None:\n",
    "        del item[\"island\"]\n",
    "\n",
    "# Remove empty dictionaries\n",
    "MountainOnIsland = [dic for dic in MountainOnIsland if dic]\n",
    "\n",
    "# Save it as CSV\n",
    "headers = MountainOnIsland[0].keys()\n",
    "with open('MountainOnIsland.csv', 'w', newline='\\n', encoding='utf-8') as f:\n",
    "    writer = csv.DictWriter(f, fieldnames=headers, extrasaction='ignore')\n",
    "    writer.writeheader()\n",
    "    writer.writerows(MountainOnIsland)"
   ]
  },
  {
   "cell_type": "code",
   "execution_count": 92,
   "id": "3f271a05-370a-4aea-ab7a-61a922542c63",
   "metadata": {},
   "outputs": [
    {
     "data": {
      "text/plain": [
       "[{'mountain': 'Gunnbjørn Fjeld', 'island': 'Greenland'},\n",
       " {'mountain': 'Newtontoppen', 'island': 'Svalbard'}]"
      ]
     },
     "execution_count": 92,
     "metadata": {},
     "output_type": "execute_result"
    }
   ],
   "source": [
    "MountainOnIsland[:2]"
   ]
  },
  {
   "cell_type": "code",
   "execution_count": 93,
   "id": "1bb18e58-b6da-4fd5-87b5-0bc9fb1c1b5e",
   "metadata": {},
   "outputs": [],
   "source": [
    "# Verbindung zu PostgreSQL\n",
    "pg_conn = psycopg2.connect(\n",
    "    dbname=\"postgres\",\n",
    "    user=\"postgres\",\n",
    "    password=\"postgres\",\n",
    "    host=\"localhost\",\n",
    "    port=\"5432\"\n",
    ")\n",
    "pg_cursor = pg_conn.cursor()\n",
    "\n",
    "# Load the table LakeOnIsland from the DB\n",
    "pg_cursor.execute(\"SELECT * FROM LakeOnIsland;\")\n",
    "columns = [desc[0] for desc in pg_cursor.description]\n",
    "rows = pg_cursor.fetchall()\n",
    "\n",
    "# Convert to Dictionaries\n",
    "LakeOnIsland  = [dict(zip(columns, row)) for row in rows]\n",
    "\n",
    "#Remove keyes with None values\n",
    "for item in LakeOnIsland:\n",
    "    if item[\"lake\"] is None:\n",
    "        del item[\"lake\"]\n",
    "    if item[\"island\"] is None:\n",
    "        del item[\"island\"]\n",
    "\n",
    "# Remove empty dictionaries\n",
    "LakeOnIsland = [dic for dic in LakeOnIsland if dic]\n",
    "\n",
    "# Save it as CSV\n",
    "headers = LakeOnIsland[0].keys()\n",
    "with open('LakeOnIsland.csv', 'w', newline='\\n', encoding='utf-8') as f:\n",
    "    writer = csv.DictWriter(f, fieldnames=headers, extrasaction='ignore')\n",
    "    writer.writeheader()\n",
    "    writer.writerows(LakeOnIsland)"
   ]
  },
  {
   "cell_type": "code",
   "execution_count": 94,
   "id": "9afe9c3c-0837-4740-a468-6fbe0aa84c8f",
   "metadata": {
    "scrolled": true
   },
   "outputs": [
    {
     "data": {
      "text/plain": [
       "[{'lake': 'Arresø', 'island': 'Seeland'},\n",
       " {'lake': 'Lough Neagh', 'island': 'Ireland'}]"
      ]
     },
     "execution_count": 94,
     "metadata": {},
     "output_type": "execute_result"
    }
   ],
   "source": [
    "LakeOnIsland[:2]"
   ]
  },
  {
   "cell_type": "code",
   "execution_count": 95,
   "id": "730caa69-5919-4300-85ba-81d948a7412e",
   "metadata": {},
   "outputs": [],
   "source": [
    "# Verbindung zu PostgreSQL\n",
    "pg_conn = psycopg2.connect(\n",
    "    dbname=\"postgres\",\n",
    "    user=\"postgres\",\n",
    "    password=\"postgres\",\n",
    "    host=\"localhost\",\n",
    "    port=\"5432\"\n",
    ")\n",
    "pg_cursor = pg_conn.cursor()\n",
    "\n",
    "# Load the table RiverOnIsland from the DB\n",
    "pg_cursor.execute(\"SELECT * FROM RiverOnIsland;\")\n",
    "columns = [desc[0] for desc in pg_cursor.description]\n",
    "rows = pg_cursor.fetchall()\n",
    "\n",
    "# Convert to Dictionaries\n",
    "RiverOnIsland  = [dict(zip(columns, row)) for row in rows]\n",
    "\n",
    "#Remove keyes with None values\n",
    "for item in RiverOnIsland:\n",
    "    if item[\"river\"] is None:\n",
    "        del item[\"river\"]\n",
    "    if item[\"island\"] is None:\n",
    "        del item[\"island\"]\n",
    "\n",
    "# Remove empty dictionaries\n",
    "RiverOnIsland = [dic for dic in RiverOnIsland if dic]\n",
    "\n",
    "# Save it as CSV\n",
    "headers = RiverOnIsland[0].keys()\n",
    "with open('RiverOnIsland.csv', 'w', newline='\\n', encoding='utf-8') as f:\n",
    "    writer = csv.DictWriter(f, fieldnames=headers, extrasaction='ignore')\n",
    "    writer.writeheader()\n",
    "    writer.writerows(RiverOnIsland)"
   ]
  },
  {
   "cell_type": "code",
   "execution_count": 96,
   "id": "bcbcdc28-b2e0-44fc-b12c-5581232b270e",
   "metadata": {
    "scrolled": true
   },
   "outputs": [
    {
     "data": {
      "text/plain": [
       "[{'river': 'Thames', 'island': 'Great Britain'},\n",
       " {'river': 'Severn', 'island': 'Great Britain'}]"
      ]
     },
     "execution_count": 96,
     "metadata": {},
     "output_type": "execute_result"
    }
   ],
   "source": [
    "RiverOnIsland[:2]"
   ]
  },
  {
   "cell_type": "code",
   "execution_count": 97,
   "id": "5784d049-283c-4178-ae37-c7a3ef38f744",
   "metadata": {},
   "outputs": [],
   "source": [
    "# Verbindung zu PostgreSQL\n",
    "pg_conn = psycopg2.connect(\n",
    "    dbname=\"postgres\",\n",
    "    user=\"postgres\",\n",
    "    password=\"postgres\",\n",
    "    host=\"localhost\",\n",
    "    port=\"5432\"\n",
    ")\n",
    "pg_cursor = pg_conn.cursor()\n",
    "\n",
    "# Load the table Airport from the DB\n",
    "pg_cursor.execute(\"SELECT * FROM Airport;\")\n",
    "columns = [desc[0] for desc in pg_cursor.description]\n",
    "rows = pg_cursor.fetchall()\n",
    "\n",
    "# Convert to Dictionaries\n",
    "Airport  = [dict(zip(columns, row)) for row in rows]\n",
    "\n",
    "#Remove keyes with None values\n",
    "for item in Airport:\n",
    "    if item[\"iatacode\"] is None:\n",
    "        del item[\"iatacode\"]\n",
    "    if item[\"name\"] is None:\n",
    "        del item[\"name\"]\n",
    "    if item[\"country\"] is None:\n",
    "        del item[\"country\"]\n",
    "    if item[\"city\"] is None:\n",
    "        del item[\"city\"]\n",
    "    if item[\"province\"] is None:\n",
    "        del item[\"province\"]\n",
    "    if item[\"island\"] is None:\n",
    "        del item[\"island\"]\n",
    "    if item[\"latitude\"] is None:\n",
    "        del item[\"latitude\"]\n",
    "    if item[\"longitude\"] is None:\n",
    "        del item[\"longitude\"]\n",
    "    if item[\"elevation\"] is None:\n",
    "        del item[\"elevation\"]\n",
    "    if item[\"gmtoffset\"] is None:\n",
    "        del item[\"gmtoffset\"]\n",
    "\n",
    "# Remove empty dictionaries\n",
    "Airport = [dic for dic in Airport if dic]\n",
    "\n",
    "# Save it as CSV\n",
    "headers = Airport[0].keys()\n",
    "with open('Airport.csv', 'w', newline='\\n', encoding='utf-8') as f:\n",
    "    writer = csv.DictWriter(f, fieldnames=headers, extrasaction='ignore')\n",
    "    writer.writeheader()\n",
    "    writer.writerows(Airport)"
   ]
  },
  {
   "cell_type": "code",
   "execution_count": 98,
   "id": "df5e9c01-b3cb-419f-8c79-a04974ec62e8",
   "metadata": {},
   "outputs": [
    {
     "data": {
      "text/plain": [
       "[{'iatacode': 'HEA',\n",
       "  'name': 'Herat',\n",
       "  'country': 'AFG',\n",
       "  'city': 'Herat',\n",
       "  'province': 'Afghanistan',\n",
       "  'latitude': Decimal('34.210017'),\n",
       "  'longitude': Decimal('62.2283'),\n",
       "  'elevation': Decimal('977'),\n",
       "  'gmtoffset': Decimal('5')},\n",
       " {'iatacode': 'KBL',\n",
       "  'name': 'Kabul Intl',\n",
       "  'country': 'AFG',\n",
       "  'city': 'Kabul',\n",
       "  'province': 'Afghanistan',\n",
       "  'latitude': Decimal('34.565853'),\n",
       "  'longitude': Decimal('69.212328'),\n",
       "  'elevation': Decimal('1792'),\n",
       "  'gmtoffset': Decimal('5')}]"
      ]
     },
     "execution_count": 98,
     "metadata": {},
     "output_type": "execute_result"
    }
   ],
   "source": [
    "Airport[:2]"
   ]
  },
  {
   "cell_type": "code",
   "execution_count": null,
   "id": "636dec73-7b06-4451-a97e-4be717352fdc",
   "metadata": {},
   "outputs": [],
   "source": []
  }
 ],
 "metadata": {
  "kernelspec": {
   "display_name": "Python 3 (ipykernel)",
   "language": "python",
   "name": "python3"
  },
  "language_info": {
   "codemirror_mode": {
    "name": "ipython",
    "version": 3
   },
   "file_extension": ".py",
   "mimetype": "text/x-python",
   "name": "python",
   "nbconvert_exporter": "python",
   "pygments_lexer": "ipython3",
   "version": "3.11.0rc2"
  }
 },
 "nbformat": 4,
 "nbformat_minor": 5
}
